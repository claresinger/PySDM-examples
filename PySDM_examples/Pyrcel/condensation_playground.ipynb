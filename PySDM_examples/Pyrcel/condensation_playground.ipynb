{
 "cells": [
  {
   "cell_type": "markdown",
   "metadata": {},
   "source": [
    "[![nbviewer](https://raw.githubusercontent.com/jupyter/design/master/logos/Badges/nbviewer_badge.svg)](https://nbviewer.jupyter.org/github/claresinger/PySDM-examples/blob/ese134/PySDM_examples/Pyrcel/condensation_playground.ipynb)\n",
    "[![Open In Colab](https://colab.research.google.com/assets/colab-badge.svg)](https://colab.research.google.com/github/claresinger/PySDM-examples/blob/ese134/PySDM_examples/Pyrcel/condensation_playground.ipynb)"
   ]
  },
  {
   "cell_type": "markdown",
   "metadata": {},
   "source": [
    "#### based on Example Figure from Pyrcel code documentation https://pyrcel.readthedocs.io/en/latest/examples/basic_run.html"
   ]
  },
  {
   "cell_type": "code",
   "execution_count": 1,
   "metadata": {},
   "outputs": [],
   "source": [
    "import sys\n",
    "if 'google.colab' in sys.modules:\n",
    "    !pip --quiet install \"atmos-cloud-sim-uj-utils\n",
    "    from atmos_cloud_sim_uj_utils import pip_install_on_colab\n",
    "    pip_install_on_colab('PySDM-examples')"
   ]
  },
  {
   "cell_type": "code",
   "execution_count": 2,
   "metadata": {},
   "outputs": [],
   "source": [
    "import numpy as np\n",
    "from matplotlib import pyplot\n",
    "from scipy.ndimage.filters import uniform_filter1d\n",
    "from atmos_cloud_sim_uj_utils import show_plot\n",
    "\n",
    "from PySDM import Formulae\n",
    "from PySDM.physics import si\n",
    "from PySDM.initialisation.spectra import Lognormal\n",
    "from PySDM.products import (\n",
    "    ParcelDisplacement, AmbientTemperature, AmbientRelativeHumidity,\n",
    "    ParticleSizeSpectrumPerVolume, ParticleVolumeVersusRadiusLogarithmSpectrum\n",
    ")\n",
    "\n",
    "from PySDM_examples.Pyrcel import Settings, Simulation\n",
    "\n",
    "from numpy import errstate\n",
    "from IPython.display import display\n",
    "from PySDM_examples.Pyrcel.profile_plotter import ProfilePlotter\n",
    "from PySDM_examples.utils import widgets"
   ]
  },
  {
   "cell_type": "code",
   "execution_count": 3,
   "metadata": {},
   "outputs": [],
   "source": [
    "progbar = widgets.IntProgress(min=0, max=100, description='%')"
   ]
  },
  {
   "cell_type": "code",
   "execution_count": 19,
   "metadata": {},
   "outputs": [],
   "source": [
    "def demo(*, freezer, k2, N2, r2):\n",
    "    with freezer:\n",
    "        with errstate(all='raise'):\n",
    "            settings = Settings(\n",
    "                dz = 1 * si.m,\n",
    "                n_sd_per_mode = (10, 10),\n",
    "                aerosol_modes_by_kappa = {\n",
    "                    .54: Lognormal(\n",
    "                        norm_factor=850 / si.cm ** 3,\n",
    "                        m_mode=15 * si.nm,\n",
    "                        s_geom=1.6\n",
    "                    ),\n",
    "                    k2: Lognormal(\n",
    "                        norm_factor=N2 / si.cm ** 3,\n",
    "                        m_mode=r2 * si.nm,\n",
    "                        s_geom=1.2\n",
    "                    )\n",
    "                },\n",
    "                vertical_velocity = 1.0 * si.m / si.s,\n",
    "                initial_pressure = 775 * si.mbar,\n",
    "                initial_temperature = 274 * si.K,\n",
    "                initial_relative_humidity = 0.98,\n",
    "                displacement = 250 * si.m,\n",
    "                formulae = Formulae(constants={'MAC': .3})\n",
    "            )\n",
    "            dry_radius_bin_edges = np.logspace(\n",
    "                np.log10(1e-3 * si.um),\n",
    "                np.log10(5e0 * si.um),\n",
    "                33, endpoint=False\n",
    "            )\n",
    "            simulation = Simulation(\n",
    "                settings,\n",
    "                products=(\n",
    "                ParcelDisplacement(\n",
    "                    name='z'),\n",
    "                AmbientRelativeHumidity(\n",
    "                    name='S_max', unit='%', var='RH'),\n",
    "                AmbientTemperature(\n",
    "                    name='T'),\n",
    "                ParticleSizeSpectrumPerVolume(\n",
    "                    name='dry:dN/dR', radius_bins_edges=dry_radius_bin_edges, dry=True),\n",
    "                ParticleVolumeVersusRadiusLogarithmSpectrum(\n",
    "                    name='dry:dV/dlnR', radius_bins_edges=dry_radius_bin_edges, dry=True),\n",
    "                ),\n",
    "                scipy_solver=False,\n",
    "            )\n",
    "            output = simulation.run((widgets.ProgbarUpdater(progbar, settings.output_steps[-1]),))\n",
    "\n",
    "        with errstate(invalid='ignore'):\n",
    "            plotter = ProfilePlotter(settings)\n",
    "            plotter.plot(output)\n",
    "            plotter.show()\n",
    "            \n",
    "            "
   ]
  },
  {
   "cell_type": "code",
   "execution_count": 29,
   "metadata": {},
   "outputs": [
    {
     "data": {
      "application/vnd.jupyter.widget-view+json": {
       "model_id": "5fe5a8bfbefa47f0a3164a66449a0075",
       "version_major": 2,
       "version_minor": 0
      },
      "text/plain": [
       "HBox(children=(FloatSlider(value=1.2, continuous_update=False, description='κ2', max=1.4, min=0.2, readout_for…"
      ]
     },
     "metadata": {},
     "output_type": "display_data"
    },
    {
     "data": {
      "application/vnd.jupyter.widget-view+json": {
       "model_id": "8fcbf6648f87426e97b5e283de21782c",
       "version_major": 2,
       "version_minor": 0
      },
      "text/plain": [
       "IntProgress(value=100, description='%')"
      ]
     },
     "metadata": {},
     "output_type": "display_data"
    },
    {
     "data": {
      "application/vnd.jupyter.widget-view+json": {
       "model_id": "7ff147dcf0a84b5ab4683edf5dded840",
       "version_major": 2,
       "version_minor": 0
      },
      "text/plain": [
       "Output()"
      ]
     },
     "metadata": {},
     "output_type": "display_data"
    }
   ],
   "source": [
    "k2 = widgets.FloatSlider(value=1.2, min=0.2, max=1.4, step=0.1, description='κ2', continuous_update=False, readout_format='.1f')\n",
    "N2 = widgets.IntSlider(value=10, min=5, max=50, step=5, description='N2', continuous_update=False)\n",
    "r2 = widgets.IntSlider(value=850, min=200, max=1000, step=50, description='r2', continuous_update=False)\n",
    "sliders = widgets.HBox([k2, N2, r2])\n",
    "freezer = widgets.Freezer([k2, N2, r2])\n",
    "self = widgets.interactive_output(demo, {'freezer': freezer, 'k2': k2, 'N2': N2, 'r2': r2})\n",
    "\n",
    "display(sliders, progbar, self)"
   ]
  },
  {
   "cell_type": "code",
   "execution_count": null,
   "metadata": {},
   "outputs": [],
   "source": []
  }
 ],
 "metadata": {
  "kernelspec": {
   "display_name": "Python 3",
   "language": "python",
   "name": "python3"
  },
  "language_info": {
   "codemirror_mode": {
    "name": "ipython",
    "version": 3
   },
   "file_extension": ".py",
   "mimetype": "text/x-python",
   "name": "python",
   "nbconvert_exporter": "python",
   "pygments_lexer": "ipython3",
   "version": "3.7.12"
  }
 },
 "nbformat": 4,
 "nbformat_minor": 4
}
