{
 "cells": [
  {
   "cell_type": "markdown",
   "metadata": {},
   "source": [
    "[![nbviewer](https://raw.githubusercontent.com/jupyter/design/master/logos/Badges/nbviewer_badge.svg)](https://nbviewer.jupyter.org/github/claresinger/PySDM-examples/blob/ese134/PySDM_examples/Pyrcel/condensation_playground.ipynb)\n",
    "[![Open In Colab](https://colab.research.google.com/assets/colab-badge.svg)](https://colab.research.google.com/github/claresinger/PySDM-examples/blob/ese134/PySDM_examples/Pyrcel/condensation_playground.ipynb)"
   ]
  },
  {
   "cell_type": "markdown",
   "metadata": {},
   "source": [
    "## Cloud Microphysics: Part 1\n",
    "- Activation of aerosol particles into cloud droplets\n",
    "- Exploring how size/composition affect condensational growth\n",
    "\n",
    "Based on Example Figure from Pyrcel code documentation https://pyrcel.readthedocs.io/en/latest/examples/basic_run.html"
   ]
  },
  {
   "cell_type": "markdown",
   "metadata": {},
   "source": [
    "## Droplet activation \n",
    "(for more info read Ch. 6 of Lohmann's _An Introduction to Clouds_)\n",
    "#### Köhler curve:\n",
    "- Curvature effect (Kelvin equation), describes the increase in vapor pressure over a curved surface\n",
    "compared to a flat surface and how this depends on the surface tension and radius of the droplet.\n",
    "\n",
    "$e_s(r) = e_s(\\infty) \\exp \\left( \\frac{2 \\sigma}{r \\rho R_v T} \\right)$\n",
    "\n",
    "- Solute effect (Raoult's law), describes the reduction of vapor pressure over a flat surface due\n",
    "to the presence of soluble material, aka aerosol.\n",
    "\n",
    "$\\kappa = \\frac{1}{a_w} = \\frac{e_s(\\infty)}{e_*(\\infty)} = \\frac{n_s + n_w}{n_w}$\n",
    "\n",
    "The hygroscopicity (inverse of water activity) is defined as the ratio of the total number of \n",
    "moles of solute plus water to the number of moles of water.\n",
    "\n",
    "- Putting it together, the Köhler curve, or $\\kappa$-Köhler curve, describes the hygroscopic \n",
    "growth of particles, and the maximum of this curve, describes the point of activation from\n",
    "an aerosol into a cloud droplet.\n",
    "\n",
    "$S(r) = \\frac{e_*(r)}{e_s(\\infty)} \\approx 1 + \\frac{a}{r} - \\frac{b}{r^3}$\n",
    "\n",
    "<img src=\"./kohler.png\" width=\"500\">\n",
    "Fig 6.11 from Lohamann. You can see a characteristic Köhler curve with the critical radius ($r_{act}$) and supersaturation ($S_{act}$) which separate the stable (aerosol or \"solution droplet\") and unstable (cloud droplet) regimes labeled.\n",
    "\n",
    "#### Other considerations:\n",
    "- Surface tension: The surface tension $\\sigma$ in the Kelvin equation is usually assumed as\n",
    "constant $\\sigma = \\sigma_w = 72$ mN, but complex chemistry of the aerosol can sometimes actually\n",
    "modify the effective surface tension of the growing cloud droplet.\n"
   ]
  },
  {
   "cell_type": "markdown",
   "metadata": {},
   "source": [
    "## PySDM parcel model widget\n",
    "\n",
    "In this homework assignment, and with this `PySDM` example notebook, you have the chance to explore how particle size, number concentration, and chemical composition, influence the bulk properties of a cloud by using a parcel model.\n",
    "\n",
    "A parcel model takes a parcel of air and lifts it adiabatically, greatly simplifying the dynamics taking place in a real cloud, but resolving the microphysical processes we are interested in exploring here.\n",
    "\n",
    "You can play around with the widget at the bottom to change the initial aerosol properties, while keeping the dynamics fixed (i.e. updraft velocity `w = 1 * si.m / si.s` or temperature `T0 = 274 * si.K`). "
   ]
  },
  {
   "cell_type": "code",
   "execution_count": 1,
   "metadata": {},
   "outputs": [],
   "source": [
    "# import PySDM-examples library on google colab\n",
    "import sys\n",
    "if 'google.colab' in sys.modules:\n",
    "    !pip --quiet install \"atmos-cloud-sim-uj-utils\"\n",
    "    from atmos_cloud_sim_uj_utils import pip_install_on_colab\n",
    "    pip_install_on_colab(\n",
    "        'PySDM-examples@git+https://github.com/claresinger/PySDM-examples@ese134#egg=PySDM-examples'\n",
    "        )"
   ]
  },
  {
   "cell_type": "code",
   "execution_count": 6,
   "metadata": {},
   "outputs": [],
   "source": [
    "# import functions for creating interactive widget\n",
    "import numpy as np\n",
    "from numpy import errstate\n",
    "from IPython.display import display\n",
    "from PySDM_examples.utils import widgets\n",
    "\n",
    "# import PySDM tools for initializing and running a cloud parcel model\n",
    "from PySDM import Formulae\n",
    "from PySDM.physics import si\n",
    "from PySDM.initialisation.spectra import Lognormal\n",
    "from PySDM.products import (\n",
    "    ParcelDisplacement, AmbientTemperature, AmbientRelativeHumidity,\n",
    "    ParticleSizeSpectrumPerVolume, ParticleVolumeVersusRadiusLogarithmSpectrum\n",
    ")\n",
    "\n",
    "# import tools for running and plotting this example\n",
    "from PySDM_examples.Pyrcel import Settings, Simulation, ProfilePlotter"
   ]
  },
  {
   "cell_type": "code",
   "execution_count": 3,
   "metadata": {},
   "outputs": [],
   "source": [
    "# create progress bar for widget\n",
    "progbar = widgets.IntProgress(min=0, max=100, description='%')"
   ]
  },
  {
   "cell_type": "code",
   "execution_count": 4,
   "metadata": {},
   "outputs": [],
   "source": [
    "# create initial aerosol distribution\n",
    "# run cloud parcel model\n",
    "# save and plot results\n",
    "\n",
    "def demo(*, freezer, k2, N2, r2):\n",
    "    with freezer:\n",
    "        with errstate(all='raise'):\n",
    "            settings = Settings(\n",
    "                dz = 1 * si.m,\n",
    "                n_sd_per_mode = (10, 10),\n",
    "                aerosol_modes_by_kappa = {\n",
    "                    .54: Lognormal(\n",
    "                        norm_factor=850 / si.cm ** 3,\n",
    "                        m_mode=15 * si.nm,\n",
    "                        s_geom=1.6\n",
    "                    ),\n",
    "                    k2: Lognormal(\n",
    "                        norm_factor=N2 / si.cm ** 3,\n",
    "                        m_mode=r2 * si.nm,\n",
    "                        s_geom=1.2\n",
    "                    )\n",
    "                },\n",
    "                vertical_velocity = 1.0 * si.m / si.s,\n",
    "                initial_pressure = 775 * si.mbar,\n",
    "                initial_temperature = 274 * si.K,\n",
    "                initial_relative_humidity = 0.98,\n",
    "                displacement = 250 * si.m,\n",
    "                formulae = Formulae(constants={'MAC': .3})\n",
    "            )\n",
    "            dry_radius_bin_edges = np.logspace(\n",
    "                np.log10(1e-3 * si.um),\n",
    "                np.log10(5e0 * si.um),\n",
    "                33, endpoint=False\n",
    "            )\n",
    "            simulation = Simulation(\n",
    "                settings,\n",
    "                products=(\n",
    "                ParcelDisplacement(\n",
    "                    name='z'),\n",
    "                AmbientRelativeHumidity(\n",
    "                    name='S_max', unit='%', var='RH'),\n",
    "                AmbientTemperature(\n",
    "                    name='T'),\n",
    "                ParticleSizeSpectrumPerVolume(\n",
    "                    name='dry:dN/dR', radius_bins_edges=dry_radius_bin_edges, dry=True),\n",
    "                ParticleVolumeVersusRadiusLogarithmSpectrum(\n",
    "                    name='dry:dV/dlnR', radius_bins_edges=dry_radius_bin_edges, dry=True),\n",
    "                ),\n",
    "                scipy_solver=False,\n",
    "            )\n",
    "            output = simulation.run((widgets.ProgbarUpdater(progbar, settings.output_steps[-1]),))\n",
    "\n",
    "        with errstate(invalid='ignore'):\n",
    "            plotter = ProfilePlotter(settings)\n",
    "            plotter.plot(output)\n",
    "            plotter.show()\n",
    "            \n",
    "            "
   ]
  },
  {
   "cell_type": "code",
   "execution_count": 5,
   "metadata": {},
   "outputs": [
    {
     "data": {
      "application/vnd.jupyter.widget-view+json": {
       "model_id": "9d30397e5701437997a40233e652773d",
       "version_major": 2,
       "version_minor": 0
      },
      "text/plain": [
       "HBox(children=(FloatSlider(value=1.2, continuous_update=False, description='κ2', max=1.4, min=0.2, readout_for…"
      ]
     },
     "metadata": {},
     "output_type": "display_data"
    },
    {
     "data": {
      "application/vnd.jupyter.widget-view+json": {
       "model_id": "d5cd5d6d11de4dbfb7a7cab57dd26e1d",
       "version_major": 2,
       "version_minor": 0
      },
      "text/plain": [
       "IntProgress(value=100, description='%')"
      ]
     },
     "metadata": {},
     "output_type": "display_data"
    },
    {
     "data": {
      "application/vnd.jupyter.widget-view+json": {
       "model_id": "9937ca1115b8445283cad3130e89d297",
       "version_major": 2,
       "version_minor": 0
      },
      "text/plain": [
       "Output()"
      ]
     },
     "metadata": {},
     "output_type": "display_data"
    }
   ],
   "source": [
    "# create widget\n",
    "# use to explore how the hygroscopicity, number concentration, and mean radius\n",
    "# of the initial aerosol distribution affect the bulk parcel properties\n",
    "# like maximum supersaturation and temperature profile\n",
    "\n",
    "k2 = widgets.FloatSlider(value=1.2, min=0.2, max=1.4, step=0.1, description='κ2', continuous_update=False, readout_format='.1f')\n",
    "N2 = widgets.IntSlider(value=10, min=5, max=50, step=5, description='N2', continuous_update=False)\n",
    "r2 = widgets.IntSlider(value=850, min=200, max=1000, step=50, description='r2', continuous_update=False)\n",
    "sliders = widgets.HBox([k2, N2, r2])\n",
    "freezer = widgets.Freezer([k2, N2, r2])\n",
    "self = widgets.interactive_output(demo, {'freezer': freezer, 'k2': k2, 'N2': N2, 'r2': r2})\n",
    "\n",
    "display(sliders, progbar, self)"
   ]
  },
  {
   "cell_type": "markdown",
   "metadata": {},
   "source": [
    "## Questions\n",
    "\n",
    "1. Extremes: Which combination of (changeable) parameters leads to the largest maximum supersaturation? Which to the smallest? Why?\n",
    "\n",
    "2. Sensitivity: Is the cloud more sensitive to changes in aerosol size, number, or composition? Explain how you are measuring this.\n",
    "\n",
    "3. Albedo: The albedo of a cloud is very dependent on the size of the individual droplets it is composed of. \n",
    "We can express the cloud albedo ($\\alpha$) in terms of the cloud optical thickness ($\\tau$) and a dimensionless asymmetry parameter ($g$)\n",
    "that describes the relative amount of radiation that is forward-scattered vs. backscattered. \n",
    "\n",
    "$\\alpha = \\frac{(1-g) \\tau}{2 + (1-g)\\tau}$\n",
    "\n",
    "Cloud droplets (order 1-10$\\mu$m) tend to be strongly forward-scattering with an asymmetry parameter around $g=0.85$.\n",
    "The cloud optical thickness can be written in terms of the liquid water path through the cloud (LWP) and effective radius of the droplets ($r_e$).\n",
    "\n",
    "$\\tau = \\frac{3 LWP}{2 \\rho_w r_e}$\n",
    "\n",
    "a) With the assumption of fixed LWP, write down an expression for the cloud albedo as a function of the droplet effective radius.\n",
    "This dependence of cloud albedo on droplet size is known as the \"Twomey effect.\"\n",
    "\n",
    "b) Describe how the albedo would change given changes to the initial aerosol size distribution. "
   ]
  },
  {
   "cell_type": "code",
   "execution_count": null,
   "metadata": {},
   "outputs": [],
   "source": []
  }
 ],
 "metadata": {
  "kernelspec": {
   "display_name": "Python 3 (ipykernel)",
   "language": "python",
   "name": "python3"
  },
  "language_info": {
   "codemirror_mode": {
    "name": "ipython",
    "version": 3
   },
   "file_extension": ".py",
   "mimetype": "text/x-python",
   "name": "python",
   "nbconvert_exporter": "python",
   "pygments_lexer": "ipython3",
   "version": "3.9.7"
  }
 },
 "nbformat": 4,
 "nbformat_minor": 4
}
