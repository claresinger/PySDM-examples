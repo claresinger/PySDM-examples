{
 "cells": [
  {
   "cell_type": "markdown",
   "metadata": {},
   "source": [
    "[![nbviewer](https://raw.githubusercontent.com/jupyter/design/master/logos/Badges/nbviewer_badge.svg)](https://nbviewer.jupyter.org/github/claresinger/PySDM-examples/blob/ese134/PySDM_examples/Shima_et_al_2009/collisions_playground.ipynb)\n",
    "[![Open In Colab](https://colab.research.google.com/assets/colab-badge.svg)](https://colab.research.google.com/github/claresinger/PySDM-examples/blob/ese134/PySDM_examples/Shima_et_al_2009/collisions_playground.ipynb)"
   ]
  },
  {
   "cell_type": "markdown",
   "metadata": {},
   "source": [
    "#### Cloud Microphysics: Module 2\n",
    "- Collisions and coalescence of cloud droplets\n",
    "- Explore how \n",
    "\n",
    "Based on Fig. 2 from Shima et al. 2009 (Q. J. R. Meteorol. Soc. 135)  \"_The super‐droplet method for the numerical simulation of clouds and precipitation: a particle‐based and probabilistic microphysics model coupled with a non‐hydrostatic model_\"   \n",
    "https://doi.org/10.1002/qj.441"
   ]
  },
  {
   "cell_type": "code",
   "execution_count": 1,
   "metadata": {},
   "outputs": [],
   "source": [
    "import sys\n",
    "if 'google.colab' in sys.modules:\n",
    "    !pip --quiet install atmos-cloud-sim-uj-utils\n",
    "    from atmos_cloud_sim_uj_utils import pip_install_on_colab\n",
    "    pip_install_on_colab('PySDM-examples')"
   ]
  },
  {
   "cell_type": "code",
   "execution_count": 2,
   "metadata": {},
   "outputs": [],
   "source": [
    "from numpy import errstate\n",
    "from IPython.display import display\n",
    "\n",
    "from PySDM import Formulae\n",
    "from PySDM.dynamics.collisions.collision_kernels import Golovin\n",
    "from PySDM.initialisation import spectra\n",
    "from PySDM.physics import si\n",
    "\n",
    "from PySDM_examples.Shima_et_al_2009.spectrum_plotter import SpectrumPlotter\n",
    "from PySDM_examples.Shima_et_al_2009.settings import Settings\n",
    "from PySDM_examples.Shima_et_al_2009.example import run\n",
    "from PySDM_examples.utils import widgets"
   ]
  },
  {
   "cell_type": "code",
   "execution_count": 3,
   "metadata": {},
   "outputs": [],
   "source": [
    "progbar = widgets.IntProgress(min=0, max=100, description='%')"
   ]
  },
  {
   "cell_type": "code",
   "execution_count": 4,
   "metadata": {},
   "outputs": [],
   "source": [
    "def demo(*, freezer, n_SD, b, r, smooth):\n",
    "    frm = Formulae()\n",
    "    with freezer:\n",
    "        with errstate(all='raise'):\n",
    "            n_step = 3600\n",
    "            n_plot = 3\n",
    "            settings = Settings(steps=[i * (n_step // n_plot) for i in range(n_plot + 1)])\n",
    "            settings.n_sd = 2 ** n_SD\n",
    "            settings.adaptive = True\n",
    "            settings.dt = 10\n",
    "            settings.kernel = Golovin(b=b / si.second)\n",
    "            settings.X0 = frm.trivia.volume(radius=r * si.micrometres)\n",
    "            settings.spectrum = spectra.Exponential(norm_factor=settings.norm_factor, scale=settings.X0)\n",
    "            states, _ = run(settings, (widgets.ProgbarUpdater(progbar, settings.output_steps[-1]),))\n",
    "\n",
    "        with errstate(invalid='ignore'):\n",
    "            plotter = SpectrumPlotter(settings)\n",
    "            plotter.smooth = smooth\n",
    "            for step, state in states.items():\n",
    "                plotter.plot(state, step * settings.dt)\n",
    "            plotter.show()"
   ]
  },
  {
   "cell_type": "code",
   "execution_count": 6,
   "metadata": {
    "pycharm": {
     "is_executing": true
    }
   },
   "outputs": [
    {
     "data": {
      "application/vnd.jupyter.widget-view+json": {
       "model_id": "6c5eff7f72e5452986744006d12ee6a9",
       "version_major": 2,
       "version_minor": 0
      },
      "text/plain": [
       "HBox(children=(IntSlider(value=14, continuous_update=False, description='$log_2(n_{SD})$', max=18, min=12), Fl…"
      ]
     },
     "metadata": {},
     "output_type": "display_data"
    },
    {
     "data": {
      "application/vnd.jupyter.widget-view+json": {
       "model_id": "709842e9c029470a9b7a8e1eb1e864f4",
       "version_major": 2,
       "version_minor": 0
      },
      "text/plain": [
       "HBox(children=(Checkbox(value=False, description='smooth plot'),))"
      ]
     },
     "metadata": {},
     "output_type": "display_data"
    },
    {
     "data": {
      "application/vnd.jupyter.widget-view+json": {
       "model_id": "a57fcba784b44e70845247acb2075a1b",
       "version_major": 2,
       "version_minor": 0
      },
      "text/plain": [
       "IntProgress(value=100, description='%')"
      ]
     },
     "metadata": {},
     "output_type": "display_data"
    },
    {
     "data": {
      "application/vnd.jupyter.widget-view+json": {
       "model_id": "2f7dc9a74cb542b68c70eb6ae40ef9a4",
       "version_major": 2,
       "version_minor": 0
      },
      "text/plain": [
       "Output()"
      ]
     },
     "metadata": {},
     "output_type": "display_data"
    }
   ],
   "source": [
    "n_SD = widgets.IntSlider(value=14, min=12, max=18, step=1, \n",
    "                         description='$log_2(n_{SD})$', continuous_update=False)\n",
    "b = widgets.FloatSlider(value=1.5e3, min=1e3, max=2e3, step=1e2, \n",
    "                        description='$b$ in Golovin', continuous_update=False)\n",
    "r = widgets.FloatSlider(value=30.531, min=20, max=40, step=1, \n",
    "                        description='$r$ in spectrum', continuous_update=False)\n",
    "sliders = widgets.HBox([n_SD, b, r])\n",
    "\n",
    "smooth = widgets.Checkbox(value=False, description='smooth plot')\n",
    "options = [smooth]\n",
    "boxes = widgets.HBox(options)\n",
    "freezer = widgets.Freezer([n_SD, b, r])\n",
    "self = widgets.interactive_output(demo, \n",
    "                                  {'freezer': freezer, 'n_SD': n_SD, 'b': b, 'r': r, 'smooth': smooth})\n",
    "\n",
    "display(sliders, boxes, progbar, self)"
   ]
  },
  {
   "cell_type": "code",
   "execution_count": null,
   "metadata": {
    "pycharm": {
     "is_executing": true
    }
   },
   "outputs": [],
   "source": []
  }
 ],
 "metadata": {
  "kernelspec": {
   "display_name": "Python 3 (ipykernel)",
   "language": "python",
   "name": "python3"
  },
  "language_info": {
   "codemirror_mode": {
    "name": "ipython",
    "version": 3
   },
   "file_extension": ".py",
   "mimetype": "text/x-python",
   "name": "python",
   "nbconvert_exporter": "python",
   "pygments_lexer": "ipython3",
   "version": "3.7.12"
  }
 },
 "nbformat": 4,
 "nbformat_minor": 4
}
