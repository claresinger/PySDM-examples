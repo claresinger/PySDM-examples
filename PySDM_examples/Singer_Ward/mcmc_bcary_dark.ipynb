{
 "cells": [
  {
   "cell_type": "code",
   "execution_count": 1,
   "metadata": {
    "pycharm": {
     "name": "#%%\n"
    }
   },
   "outputs": [],
   "source": [
    "import sys\n",
    "from matplotlib import pylab\n",
    "import numpy as np\n",
    "from PySDM import Formulae\n",
    "from PySDM.physics import si\n",
    "from PySDM.physics import constants_defaults as const\n",
    "from atmos_cloud_sim_uj_utils import show_plot\n",
    "\n",
    "from PySDM_examples.Singer_Ward.aerosol import AerosolBetaCaryophyllene\n",
    "from PySDM_examples.Singer_Ward.kappa_mcmc import param_transform, get_model, MCMC\n",
    "from PySDM_examples.Singer_Ward.mcmc_plots import plot_param_chain, plot_corner, plot_ovf_kappa_fit, plot_keff\n",
    "\n",
    "import warnings\n",
    "from numba.core.errors import NumbaExperimentalFeatureWarning"
   ]
  },
  {
   "cell_type": "code",
   "execution_count": 2,
   "metadata": {},
   "outputs": [],
   "source": [
    "ds = np.loadtxt(\"data/bcary_dark.csv\",skiprows=1,delimiter=\",\")\n",
    "ds = np.delete(ds, [26,65], axis=0) # remove outliers\n",
    "r_dry = ds[:,0]/2*1e-9\n",
    "ovf = np.minimum(ds[:,1], 0.99)\n",
    "d_ovf = ds[:,2]\n",
    "kappa_eff = ds[:,3]\n",
    "d_kappa_eff = ds[:,4]\n",
    "T = 300 * si.K\n",
    "\n",
    "datay = kappa_eff\n",
    "errory = d_kappa_eff\n",
    "\n",
    "# pylab.figure(figsize=(8,6))\n",
    "# pylab.rcParams.update({'font.size':20})\n",
    "# pylab.errorbar(ovf, kappa_eff, yerr=d_kappa_eff, xerr=d_ovf, fmt='ko')\n",
    "# pylab.xlabel(\"OVF\")\n",
    "# pylab.ylabel(\"$\\kappa_{eff}$\")\n",
    "# pylab.rcParams.update({'font.size':20})\n",
    "# pylab.grid()\n",
    "# pylab.show()"
   ]
  },
  {
   "cell_type": "code",
   "execution_count": null,
   "metadata": {
    "tags": []
   },
   "outputs": [
    {
     "name": "stdout",
     "output_type": "stream",
     "text": [
      "[1.61000000e-19 6.14421235e-06 3.31154520e+01 1.50000000e+17]\n"
     ]
    }
   ],
   "source": [
    "c = AerosolBetaCaryophyllene(ovf)\n",
    "\n",
    "# # Ovad\n",
    "# model = \"CompressedFilmOvadnevaite\"\n",
    "# params = [0.5, 0.2]\n",
    "# stepsize = [0.1, 0.1]\n",
    "\n",
    "# # SL\n",
    "# model = \"SzyszkowskiLangmuir\"\n",
    "# params = [20, -12.0, 3.9]\n",
    "# stepsize = [0.5, 0.1, 0.05]\n",
    "\n",
    "# Ruehl\n",
    "model = \"CompressedFilmRuehl\"\n",
    "params = [16.1, -12.0, 3.5, 1.5]\n",
    "stepsize = [0.1, 0.05, 0.01, 0.05]\n",
    "\n",
    "print(param_transform(params, model))\n",
    "\n",
    "args = [T, r_dry, ovf, c, model]\n",
    "\n",
    "n_steps = 1000\n",
    "with warnings.catch_warnings():\n",
    "    warnings.simplefilter('ignore', category=NumbaExperimentalFeatureWarning)\n",
    "    param_chain, accept_chain, chi2_chain = MCMC(params, stepsize, args, datay, errory, n_steps)\n",
    "p = param_transform(param_chain, model)\n",
    "print(param_chain[:,-1])\n",
    "print(p[:,-1])"
   ]
  },
  {
   "cell_type": "code",
   "execution_count": null,
   "metadata": {},
   "outputs": [],
   "source": [
    "import mcmc_plots\n",
    "reload(mcmc_plots)\n",
    "from mcmc_plots import plot_param_chain, plot_corner, plot_ovf_kappa_fit, plot_keff\n",
    "\n",
    "lights=\"dark\"\n",
    "\n",
    "plot_param_chain(param_chain, args, title=lights)\n",
    "plot_corner(param_chain, args, title=lights)\n",
    "plot_ovf_kappa_fit(param_chain, args, d_ovf, datay, errory, title=lights)\n",
    "# plot_keff(param_chain, args, datay, errory)"
   ]
  },
  {
   "cell_type": "code",
   "execution_count": null,
   "metadata": {},
   "outputs": [],
   "source": []
  }
 ],
 "metadata": {
  "kernelspec": {
   "display_name": "Python 3 (ipykernel)",
   "language": "python",
   "name": "python3"
  },
  "language_info": {
   "codemirror_mode": {
    "name": "ipython",
    "version": 3
   },
   "file_extension": ".py",
   "mimetype": "text/x-python",
   "name": "python",
   "nbconvert_exporter": "python",
   "pygments_lexer": "ipython3",
   "version": "3.9.7"
  }
 },
 "nbformat": 4,
 "nbformat_minor": 4
}
