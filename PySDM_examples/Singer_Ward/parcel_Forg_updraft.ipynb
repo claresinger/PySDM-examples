{
 "cells": [
  {
   "cell_type": "code",
   "execution_count": 1,
   "metadata": {},
   "outputs": [],
   "source": [
    "import sys\n",
    "if 'google.colab' in sys.modules:\n",
    "    !pip --quiet install atmos-cloud-sim-uj-utils\n",
    "    from atmos_cloud_sim_uj_utils import pip_install_on_colab\n",
    "    pip_install_on_colab('PySDM-examples')"
   ]
  },
  {
   "cell_type": "code",
   "execution_count": 2,
   "metadata": {},
   "outputs": [],
   "source": [
    "from PySDM_examples.Singer_Ward import Settings, ParcelSimulation\n",
    "from PySDM_examples.Singer_Ward.aerosol import AerosolBetaCaryophylleneDark\n",
    "\n",
    "from atmos_cloud_sim_uj_utils import show_plot\n",
    "from PySDM.initialisation.sampling import spectral_sampling as spec_sampling\n",
    "from PySDM.physics import si\n",
    "\n",
    "import numpy as np\n",
    "import os\n",
    "from matplotlib import pyplot\n",
    "import matplotlib\n",
    "from joblib import Parallel, delayed"
   ]
  },
  {
   "cell_type": "code",
   "execution_count": 3,
   "metadata": {},
   "outputs": [],
   "source": [
    "CI = 'CI' in os.environ\n",
    "CI = True\n",
    "\n",
    "updraft_list = np.geomspace(0.1, 10, 3 if CI else 10)\n",
    "forg_list = np.linspace(0.05, 0.95, 3 if CI else 10)\n",
    "models = ('Constant', 'CompressedFilmOvadnevaite')"
   ]
  },
  {
   "cell_type": "code",
   "execution_count": 4,
   "metadata": {},
   "outputs": [
    {
     "name": "stdout",
     "output_type": "stream",
     "text": [
      "tasks scheduled: 18\n"
     ]
    },
    {
     "name": "stderr",
     "output_type": "stream",
     "text": [
      "[Parallel(n_jobs=-1)]: Using backend LokyBackend with 4 concurrent workers.\n",
      "[Parallel(n_jobs=-1)]: Done   5 tasks      | elapsed:   58.4s\n",
      "[Parallel(n_jobs=-1)]: Done  10 tasks      | elapsed:  1.3min\n",
      "[Parallel(n_jobs=-1)]: Done  13 out of  18 | elapsed:  1.7min remaining:   39.7s\n",
      "[Parallel(n_jobs=-1)]: Done  15 out of  18 | elapsed:  1.9min remaining:   22.8s\n",
      "[Parallel(n_jobs=-1)]: Done  18 out of  18 | elapsed:  2.2min finished\n"
     ]
    }
   ],
   "source": [
    "def compute(key, settings):\n",
    "    simulation = ParcelSimulation(settings)\n",
    "    output = simulation.run()\n",
    "    output['updraft'] = settings.w\n",
    "    output['org_fraction'] = settings.aerosol.modes[0]['f_org']\n",
    "    output['color'] = settings.aerosol.color\n",
    "    return key, output\n",
    "\n",
    "print(f'tasks scheduled: {len(models) * len(forg_list) * len(updraft_list)}')\n",
    "output = dict(Parallel(verbose=10, n_jobs=-1)(\n",
    "    delayed(compute)(\"w{:.2f}_f{:.2f}_\".format(w,Forg)+model, Settings(\n",
    "        dz = 1 * si.m, \n",
    "        n_sd_per_mode = 50, \n",
    "        model = model,\n",
    "        aerosol = AerosolBetaCaryophylleneDark(Forg=Forg),\n",
    "        w = w * si.m / si.s,\n",
    "        spectral_sampling = spec_sampling.ConstantMultiplicity\n",
    "    ))\n",
    "    for w in updraft_list\n",
    "    for Forg in forg_list\n",
    "    for model in models\n",
    "))"
   ]
  },
  {
   "cell_type": "code",
   "execution_count": 5,
   "metadata": {},
   "outputs": [
    {
     "data": {
      "image/png": "[encoded data removed]",
      "text/plain": [
       "<Figure size 576x432 with 2 Axes>"
      ]
     },
     "metadata": {
      "needs_background": "light"
     },
     "output_type": "display_data"
    }
   ],
   "source": [
    "dCDNC = np.zeros((len(updraft_list), len(forg_list)))\n",
    "for i,w in enumerate(updraft_list):\n",
    "    for j,Forg in enumerate(forg_list):\n",
    "        key = \"w{:.2f}_f{:.2f}_\".format(w,Forg)\n",
    "        var = 'n_c_cm3'\n",
    "        z = np.array(output[key+\"Constant\"]['z'])\n",
    "        wz = np.where(z == z[-1])[0][0]\n",
    "        CDNC_film = np.array(output[key+\"CompressedFilmOvadnevaite\"][var])[wz]\n",
    "        CDNC_bulk = np.array(output[key+\"Constant\"][var])[wz]\n",
    "        dCDNC[i,j] = (CDNC_film - CDNC_bulk) / CDNC_bulk * 100.0\n",
    "\n",
    "fig, axes = pyplot.subplots(1,1, sharex=True, sharey=True, figsize=(8,6))\n",
    "ax = axes\n",
    "ax.set_title(\"$\\\\beta$-Caryophyllene (dark)\")\n",
    "levs = np.linspace(-40,40,20)\n",
    "p = ax.contourf(forg_list, updraft_list, dCDNC, cmap=\"bwr\", extend=\"both\", levels=levs)\n",
    "ax.set_xlabel(\"Organic mass fraction\")\n",
    "ax.set_yscale(\"log\")\n",
    "# ax.set_yticks([0.1,0.5,2,5])\n",
    "# ax.set_yticklabels([\"0.1\",\"0.5\",\"2\",\"5\"])\n",
    "ax.set_ylabel(\"Updraft [ms$^{-1}$]\")\n",
    "pyplot.colorbar(p, ax=ax, label=\"$\\Delta_{CDNC}$ [%]\")\n",
    "pyplot.rcParams.update({'font.size': 15})\n",
    "#pyplot.savefig(\"bCary_dCDNC_OVF_Updraft.png\", dpi=200)\n",
    "pyplot.show()\n",
    "\n",
    "############################\n",
    "\n",
    "# dat = np.zeros((len(forg_list)+1, len(updraft_list)+1))\n",
    "# dat[1:,0] = updraft_list\n",
    "# dat[0,1:] = forg_list\n",
    "# dat[1:,1:] = dCDNC\n",
    "# print(dat)\n",
    "# np.savetxt(\"Ryan_parcel_2D.csv\", dat, fmt=\"%.4f\", delimiter=',', \n",
    "#            header=\"W (m/s) (left col), Forg (top row), delta CDNC (%) (grid below), -, -, -, -, -, -, -, -\", \n",
    "#            comments='Forg fractions in first row // Updraft speed in first column // dCDNC in grid\\n')"
   ]
  },
  {
   "cell_type": "code",
   "execution_count": null,
   "metadata": {},
   "outputs": [],
   "source": []
  }
 ],
 "metadata": {
  "kernelspec": {
   "display_name": "Python 3.9.7 ('pysdm')",
   "language": "python",
   "name": "python3"
  },
  "language_info": {
   "codemirror_mode": {
    "name": "ipython",
    "version": 3
   },
   "file_extension": ".py",
   "mimetype": "text/x-python",
   "name": "python",
   "nbconvert_exporter": "python",
   "pygments_lexer": "ipython3",
   "version": "3.9.7"
  },
  "vscode": {
   "interpreter": {
    "hash": "bd962dd91e1cacd3e3e7665b7c8bf16aaf00ede669e24e39bd4423e927038f82"
   }
  }
 },
 "nbformat": 4,
 "nbformat_minor": 4
}
