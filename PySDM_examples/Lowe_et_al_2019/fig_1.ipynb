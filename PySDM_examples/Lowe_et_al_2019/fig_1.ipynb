{
 "cells": [
  {
   "cell_type": "markdown",
   "metadata": {
    "pycharm": {
     "name": "#%% md\n"
    }
   },
   "source": [
    "[![Binder](https://mybinder.org/badge_logo.svg)](https://mybinder.org/v2/gh/atmos-cloud-sim-uj/PySDM-examples.git/main?urlpath=PySDM_examples/Lowe_et_al_2019/fig_2.ipynb)\n",
    "[![Open In Colab](https://colab.research.google.com/assets/colab-badge.svg)](https://colab.research.google.com/github/atmos-cloud-sim-uj/PySDM-examples/blob/main/PySDM_examples/Lowe_et_al_2019/fig_2.ipynb)"
   ]
  },
  {
   "cell_type": "markdown",
   "metadata": {},
   "source": [
    "#### based on Fig. 1 from Lowe et al. 2019 (Nature Comm.)  \"_Key drivers of cloud response to surface-active organics_\"\n",
    "https://doi.org/10.1038/s41467-019-12982-0"
   ]
  },
  {
   "cell_type": "code",
   "execution_count": 1,
   "metadata": {
    "pycharm": {
     "name": "#%%\n"
    }
   },
   "outputs": [],
   "source": [
    "import sys\n",
    "if 'google.colab' in sys.modules:\n",
    "    !pip --quiet install atmos-cloud-sim-uj-utils\n",
    "    from atmos_cloud_sim_uj_utils import pip_install_on_colab\n",
    "    pip_install_on_colab('PySDM-examples')"
   ]
  },
  {
   "cell_type": "code",
   "execution_count": 2,
   "metadata": {
    "pycharm": {
     "name": "#%%\n"
    }
   },
   "outputs": [
    {
     "ename": "ImportError",
     "evalue": "cannot import name 'Formulae' from 'PySDM' (/Users/claresinger/anaconda3/envs/pysdm/lib/python3.8/site-packages/PySDM/__init__.py)",
     "output_type": "error",
     "traceback": [
      "\u001b[0;31m---------------------------------------------------------------------------\u001b[0m",
      "\u001b[0;31mImportError\u001b[0m                               Traceback (most recent call last)",
      "\u001b[0;32m<ipython-input-2-25dfa9dce47e>\u001b[0m in \u001b[0;36m<module>\u001b[0;34m\u001b[0m\n\u001b[1;32m      1\u001b[0m \u001b[0;32mfrom\u001b[0m \u001b[0mmatplotlib\u001b[0m \u001b[0;32mimport\u001b[0m \u001b[0mpylab\u001b[0m\u001b[0;34m\u001b[0m\u001b[0;34m\u001b[0m\u001b[0m\n\u001b[1;32m      2\u001b[0m \u001b[0;32mimport\u001b[0m \u001b[0mnumpy\u001b[0m \u001b[0;32mas\u001b[0m \u001b[0mnp\u001b[0m\u001b[0;34m\u001b[0m\u001b[0;34m\u001b[0m\u001b[0m\n\u001b[0;32m----> 3\u001b[0;31m \u001b[0;32mfrom\u001b[0m \u001b[0mPySDM\u001b[0m \u001b[0;32mimport\u001b[0m \u001b[0mFormulae\u001b[0m\u001b[0;34m\u001b[0m\u001b[0;34m\u001b[0m\u001b[0m\n\u001b[0m\u001b[1;32m      4\u001b[0m \u001b[0;32mfrom\u001b[0m \u001b[0mPySDM\u001b[0m\u001b[0;34m.\u001b[0m\u001b[0minitialisation\u001b[0m \u001b[0;32mimport\u001b[0m \u001b[0mspectra\u001b[0m\u001b[0;34m\u001b[0m\u001b[0;34m\u001b[0m\u001b[0m\n\u001b[1;32m      5\u001b[0m \u001b[0;32mfrom\u001b[0m \u001b[0mPySDM\u001b[0m\u001b[0;34m.\u001b[0m\u001b[0mphysics\u001b[0m \u001b[0;32mimport\u001b[0m \u001b[0msi\u001b[0m\u001b[0;34m,\u001b[0m \u001b[0mconstants\u001b[0m \u001b[0;32mas\u001b[0m \u001b[0mconst\u001b[0m\u001b[0;34m\u001b[0m\u001b[0;34m\u001b[0m\u001b[0m\n",
      "\u001b[0;31mImportError\u001b[0m: cannot import name 'Formulae' from 'PySDM' (/Users/claresinger/anaconda3/envs/pysdm/lib/python3.8/site-packages/PySDM/__init__.py)"
     ]
    }
   ],
   "source": [
    "from matplotlib import pylab\n",
    "import numpy as np\n",
    "from PySDM import Formulae\n",
    "from PySDM.initialisation import spectra\n",
    "from PySDM.physics import si, constants as const\n",
    "from atmos_cloud_sim_uj_utils import show_plot\n",
    "from PySDM_examples.Lowe_et_al_2019.aerosol import AerosolMarine, AerosolBoreal, AerosolNascent"
   ]
  },
  {
   "cell_type": "code",
   "execution_count": null,
   "metadata": {},
   "outputs": [],
   "source": [
    "from PySDM.physics.surface_tension import compressed_film_ovadnevaite\n",
    "compressed_film_ovadnevaite.sgm_org = 40 * si.mN / si.m\n",
    "compressed_film_ovadnevaite.delta_min = 0.1 * si.nm  # TODO #604 0.2 in the paper, but 0.1 matches the paper plots"
   ]
  },
  {
   "cell_type": "code",
   "execution_count": null,
   "metadata": {},
   "outputs": [],
   "source": [
    "cases = {\n",
    "    'Marine (MA)': AerosolMarine(),\n",
    "    'Boreal (HYY)': AerosolBoreal(),\n",
    "    'NUM event (NE)': AerosolNascent()\n",
    "}\n",
    "\n",
    "formulae_bulk = Formulae(surface_tension='Constant')\n",
    "formulae_surf = Formulae(surface_tension='CompressedFilmOvadnevaite')\n",
    "\n",
    "r_wet = np.logspace(np.log(150 * si.nm), np.log(3000 * si.nm), base=np.e, num=100)\n",
    "r_dry = 50 * si.nm\n",
    "v_wet = formulae_surf.trivia.volume(r_wet)\n",
    "v_dry = formulae_surf.trivia.volume(r_dry)\n",
    "T=300 * si.K\n",
    "r_wet_ticks_nm = (300, 500, 700, 1000, 3000)"
   ]
  },
  {
   "cell_type": "markdown",
   "metadata": {},
   "source": [
    "### Fig. 1 a"
   ]
  },
  {
   "cell_type": "code",
   "execution_count": null,
   "metadata": {},
   "outputs": [],
   "source": [
    "x = np.logspace(np.log(5 * si.nm), np.log(1000 * si.nm), base=np.e)\n",
    "for k, v in cases.items():\n",
    "    spec = spectra.Sum(\n",
    "        tuple(v.aerosol_modes_per_cc[i]['spectrum'] for i in range(len(v.aerosol_modes_per_cc)))\n",
    "    )\n",
    "    pylab.loglog(x / si.nm, spec.size_distribution(x)*x / si.cm**-3, label=k, color=v.color)\n",
    "pylab.ylim(1, 2500)\n",
    "pylab.xlim(5, 1000)\n",
    "pylab.legend()\n",
    "pylab.grid()\n",
    "pylab.xlabel('Dry aerosol radius [nm]')\n",
    "pylab.ylabel('Aerosol number concentration\\n size distribution [cm$^{-3}$]')\n",
    "show_plot()"
   ]
  },
  {
   "cell_type": "markdown",
   "metadata": {},
   "source": [
    "### Fig. 1 c"
   ]
  },
  {
   "cell_type": "code",
   "execution_count": null,
   "metadata": {},
   "outputs": [],
   "source": [
    "rd3 = r_dry**3\n",
    "        \n",
    "for label, formulae in {'bulk': formulae_bulk, 'film': formulae_surf}.items():\n",
    "    for k, v in cases.items():\n",
    "        sigma = formulae.surface_tension.sigma(np.nan, v_wet, v_dry, v.aerosol_modes_per_cc[0]['f_org'])\n",
    "        RH_eq = formulae.hygroscopicity.RH_eq(r_wet, T, v.aerosol_modes_per_cc[0]['kappa'][label], rd3, sigma)\n",
    "        pylab.plot(\n",
    "            r_wet / si.nm, \n",
    "            (RH_eq - 1)*100, \n",
    "            label=f\"{label} {k}\", \n",
    "            color=v.color,        \n",
    "            linestyle='-' if label == 'bulk' else '--'\n",
    "        )\n",
    "pylab.grid()\n",
    "pylab.xscale('log')\n",
    "pylab.xticks(r_wet_ticks_nm, r_wet_ticks_nm)\n",
    "pylab.xlabel('Wet radius [nm]')\n",
    "pylab.xlim(r_wet[0] / si.nm, r_wet[-1] / si.nm)\n",
    "pylab.ylabel('Equilibrium supersaturation [%]')\n",
    "yticks = (-.1, 0, .1, .2, .3)\n",
    "pylab.yticks(yticks, yticks)\n",
    "pylab.ylim(yticks[0], .35)\n",
    "pylab.legend()\n",
    "show_plot()"
   ]
  },
  {
   "cell_type": "markdown",
   "metadata": {},
   "source": [
    "### Fig. 1 d"
   ]
  },
  {
   "cell_type": "code",
   "execution_count": null,
   "metadata": {},
   "outputs": [],
   "source": [
    "for k, v in cases.items():\n",
    "    sigma = formulae_surf.surface_tension.sigma(np.nan, v_wet, v_dry, v.aerosol_modes_per_cc[0]['f_org'])\n",
    "    pylab.plot(r_wet / si.nm, sigma / (si.mN / si.m), label=k, color=v.color)\n",
    "pylab.plot(r_wet / si.nm, np.full_like(r_wet, const.sgm_w / (si.mN / si.m)), label='pure water', color='gray')\n",
    "pylab.grid()\n",
    "pylab.xscale('log')\n",
    "pylab.xticks(r_wet_ticks_nm, r_wet_ticks_nm)\n",
    "yticks = (20, 40, 60, 80)\n",
    "pylab.yticks(yticks, yticks)\n",
    "pylab.xlim(r_wet[0] / si.nm, r_wet[-1] / si.nm)\n",
    "pylab.ylim(11, 85)\n",
    "pylab.xlabel('Wet radius [nm]')\n",
    "pylab.ylabel('Surface tension [mN m$^{-1}$]')\n",
    "pylab.legend()\n",
    "show_plot()"
   ]
  },
  {
   "cell_type": "code",
   "execution_count": null,
   "metadata": {},
   "outputs": [],
   "source": []
  },
  {
   "cell_type": "code",
   "execution_count": null,
   "metadata": {},
   "outputs": [],
   "source": []
  }
 ],
 "metadata": {
  "kernelspec": {
   "display_name": "Python 3",
   "language": "python",
   "name": "python3"
  },
  "language_info": {
   "codemirror_mode": {
    "name": "ipython",
    "version": 3
   },
   "file_extension": ".py",
   "mimetype": "text/x-python",
   "name": "python",
   "nbconvert_exporter": "python",
   "pygments_lexer": "ipython3",
   "version": "3.8.3"
  }
 },
 "nbformat": 4,
 "nbformat_minor": 4
}
