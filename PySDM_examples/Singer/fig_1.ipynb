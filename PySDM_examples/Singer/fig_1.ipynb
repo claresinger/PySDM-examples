{
 "cells": [
  {
   "cell_type": "markdown",
   "metadata": {
    "pycharm": {
     "name": "#%% md\n"
    }
   },
   "source": [
    "[![Binder](https://mybinder.org/badge_logo.svg)](https://mybinder.org/v2/gh/atmos-cloud-sim-uj/PySDM-examples.git/main?urlpath=PySDM_examples/Lowe_et_al_2019/fig_2.ipynb)\n",
    "[![Open In Colab](https://colab.research.google.com/assets/colab-badge.svg)](https://colab.research.google.com/github/atmos-cloud-sim-uj/PySDM-examples/blob/main/PySDM_examples/Lowe_et_al_2019/fig_2.ipynb)"
   ]
  },
  {
   "cell_type": "markdown",
   "metadata": {},
   "source": [
    "#### based on Fig. 1 from Lowe et al. 2019 (Nature Comm.)  \"_Key drivers of cloud response to surface-active organics_\"\n",
    "https://doi.org/10.1038/s41467-019-12982-0"
   ]
  },
  {
   "cell_type": "code",
   "execution_count": 1,
   "metadata": {
    "pycharm": {
     "name": "#%%\n"
    }
   },
   "outputs": [],
   "source": [
    "import sys\n",
    "if 'google.colab' in sys.modules:\n",
    "    !pip --quiet install atmos-cloud-sim-uj-utils\n",
    "    from atmos_cloud_sim_uj_utils import pip_install_on_colab\n",
    "    pip_install_on_colab('PySDM-examples')"
   ]
  },
  {
   "cell_type": "code",
   "execution_count": 2,
   "metadata": {
    "pycharm": {
     "name": "#%%\n"
    }
   },
   "outputs": [],
   "source": [
    "from matplotlib import pylab\n",
    "import numpy as np\n",
    "from PySDM.physics import si, Formulae, constants as const, spectra\n",
    "from atmos_cloud_sim_uj_utils import show_plot\n",
    "from PySDM_examples.Singer.aerosol import AerosolBetaCary"
   ]
  },
  {
   "cell_type": "code",
   "execution_count": 3,
   "metadata": {},
   "outputs": [],
   "source": [
    "from PySDM.physics.surface_tension import compressed_film_Ovadnevaite\n",
    "compressed_film_Ovadnevaite.sgm_org = 40 * si.mN / si.m\n",
    "compressed_film_Ovadnevaite.delta_min = 0.3 * si.nm\n",
    "\n",
    "from PySDM.physics.surface_tension import compressed_film_Ruehl\n",
    "aer = AerosolBetaCary()\n",
    "compressed_film_Ruehl.nu_org = aer.aerosol_modes_per_cc['nu_org']\n",
    "compressed_film_Ruehl.A0 = 115e-20 * si.m * si.m # 115 A^2/molecule\n",
    "compressed_film_Ruehl.C0 = 6e-7 #np.exp(-4.0) \n",
    "compressed_film_Ruehl.m_sigma = 0.3e-3 * si.J\n",
    "compressed_film_Ruehl.sgm_min = 40 * si.mN / si.m\n",
    "\n",
    "# A0=115, ln(C0)=-4, and m=0.3\n",
    "\n",
    "# MW_inorg = 132;  # ammonium sulfate\n",
    "# MW_H2O = 0.018015;\n",
    "# VHF_org = 1;     # vant hoff factor\n",
    "# VHF_inorg = 2.6;\n",
    "# pw = 997;\n",
    "# rho_inorg = 1.77 * 1e3;  # kg m-3 \n",
    "# MW_inorg = 0.13214;       # kg mol-1\n",
    "# rho_org = 905;             # kg m-3\n",
    "# MW_org = 0.20436;         # kg mol-1"
   ]
  },
  {
   "cell_type": "code",
   "execution_count": 4,
   "metadata": {},
   "outputs": [],
   "source": [
    "cases = {\n",
    "    'Beta Caryophyllene': AerosolBetaCary(),\n",
    "    'Beta Caryophyllene': AerosolBetaCary()\n",
    "}\n",
    "\n",
    "formulae_bulk = Formulae(surface_tension='Constant')\n",
    "formulae_ovad = Formulae(surface_tension='CompressedFilm_Ovadnevaite')\n",
    "formulae_ruehl = Formulae(surface_tension='CompressedFilm_Ruehl')\n",
    "\n",
    "r_wet = np.logspace(np.log(150 * si.nm), np.log(3000 * si.nm), base=np.e, num=100)\n",
    "r_dry = 50 * si.nm\n",
    "v_wet = formulae_ovad.trivia.volume(r_wet)\n",
    "v_dry = formulae_ovad.trivia.volume(r_dry)\n",
    "T=300 * si.K\n",
    "r_wet_ticks_nm = (300, 500, 700, 1000, 3000)"
   ]
  },
  {
   "cell_type": "markdown",
   "metadata": {},
   "source": [
    "### Fig. 1 a"
   ]
  },
  {
   "cell_type": "code",
   "execution_count": 5,
   "metadata": {},
   "outputs": [
    {
     "data": {
      "image/png": "[encoded data removed]",
      "text/plain": [
       "<Figure size 432x288 with 1 Axes>"
      ]
     },
     "metadata": {
      "needs_background": "light"
     },
     "output_type": "display_data"
    }
   ],
   "source": [
    "x = np.logspace(np.log(5 * si.nm), np.log(1000 * si.nm), base=np.e)\n",
    "for k, v in cases.items():\n",
    "    spec = v.aerosol_modes_per_cc['spectrum']\n",
    "    pylab.loglog(x / si.nm, spec.size_distribution(x)*x / si.cm**-3, label=k, color=v.color)\n",
    "pylab.ylim(1, 2500)\n",
    "pylab.xlim(5, 1000)\n",
    "pylab.legend()\n",
    "pylab.grid()\n",
    "pylab.xlabel('Dry aerosol radius [nm]')\n",
    "pylab.ylabel('Aerosol number concentration\\n size distribution [cm$^{-3}$]')\n",
    "pylab.show()\n",
    "#show_plot()"
   ]
  },
  {
   "cell_type": "markdown",
   "metadata": {},
   "source": [
    "### Fig. 1 c"
   ]
  },
  {
   "cell_type": "code",
   "execution_count": 13,
   "metadata": {},
   "outputs": [
    {
     "ename": "TypingError",
     "evalue": "Failed in nopython mode pipeline (step: convert make_function into JIT functions)\n\u001b[1mCannot capture the non-constant value associated with variable 'A_iso' in a function that will escape.\n\u001b[1m\nFile \"../../../PySDM/PySDM/physics/surface_tension/compressed_film_Ruehl.py\", line 32:\u001b[0m\n\u001b[1m    def sigma(T, v_wet, v_dry, f_org):\n        <source elided>\n        # solve implicitly for fraction of organic at surface\n\u001b[1m        f = lambda f_surf: Cb_iso*(1-f_surf) - C0*np.exp(((A0**2 - (A_iso/f_surf)**2)*m_sigma*sci.N_A)/(2*sci.R*T))\n\u001b[0m        \u001b[1m^\u001b[0m\u001b[0m\n\u001b[0m",
     "output_type": "error",
     "traceback": [
      "\u001b[0;31m---------------------------------------------------------------------------\u001b[0m",
      "\u001b[0;31mTypingError\u001b[0m                               Traceback (most recent call last)",
      "\u001b[0;32m<ipython-input-13-3696b5bbfa92>\u001b[0m in \u001b[0;36m<module>\u001b[0;34m\u001b[0m\n\u001b[1;32m      3\u001b[0m \u001b[0;32mfor\u001b[0m \u001b[0mlabel\u001b[0m\u001b[0;34m,\u001b[0m \u001b[0mformulae\u001b[0m \u001b[0;32min\u001b[0m \u001b[0;34m{\u001b[0m\u001b[0;34m'bulk'\u001b[0m\u001b[0;34m:\u001b[0m \u001b[0mformulae_bulk\u001b[0m\u001b[0;34m,\u001b[0m \u001b[0;34m'Ovad'\u001b[0m\u001b[0;34m:\u001b[0m \u001b[0mformulae_ovad\u001b[0m\u001b[0;34m,\u001b[0m \u001b[0;34m'Ruehl'\u001b[0m\u001b[0;34m:\u001b[0m \u001b[0mformulae_ruehl\u001b[0m\u001b[0;34m}\u001b[0m\u001b[0;34m.\u001b[0m\u001b[0mitems\u001b[0m\u001b[0;34m(\u001b[0m\u001b[0;34m)\u001b[0m\u001b[0;34m:\u001b[0m\u001b[0;34m\u001b[0m\u001b[0;34m\u001b[0m\u001b[0m\n\u001b[1;32m      4\u001b[0m     \u001b[0;32mfor\u001b[0m \u001b[0mk\u001b[0m\u001b[0;34m,\u001b[0m \u001b[0mv\u001b[0m \u001b[0;32min\u001b[0m \u001b[0mcases\u001b[0m\u001b[0;34m.\u001b[0m\u001b[0mitems\u001b[0m\u001b[0;34m(\u001b[0m\u001b[0;34m)\u001b[0m\u001b[0;34m:\u001b[0m\u001b[0;34m\u001b[0m\u001b[0;34m\u001b[0m\u001b[0m\n\u001b[0;32m----> 5\u001b[0;31m         \u001b[0msigma\u001b[0m \u001b[0;34m=\u001b[0m \u001b[0mformulae\u001b[0m\u001b[0;34m.\u001b[0m\u001b[0msurface_tension\u001b[0m\u001b[0;34m.\u001b[0m\u001b[0msigma\u001b[0m\u001b[0;34m(\u001b[0m\u001b[0mnp\u001b[0m\u001b[0;34m.\u001b[0m\u001b[0mnan\u001b[0m\u001b[0;34m,\u001b[0m \u001b[0mv_wet\u001b[0m\u001b[0;34m,\u001b[0m \u001b[0mv_dry\u001b[0m\u001b[0;34m,\u001b[0m \u001b[0mv\u001b[0m\u001b[0;34m.\u001b[0m\u001b[0maerosol_modes_per_cc\u001b[0m\u001b[0;34m[\u001b[0m\u001b[0;34m'f_org'\u001b[0m\u001b[0;34m]\u001b[0m\u001b[0;34m)\u001b[0m\u001b[0;34m\u001b[0m\u001b[0;34m\u001b[0m\u001b[0m\n\u001b[0m\u001b[1;32m      6\u001b[0m         \u001b[0mRH_eq\u001b[0m \u001b[0;34m=\u001b[0m \u001b[0mformulae\u001b[0m\u001b[0;34m.\u001b[0m\u001b[0mhygroscopicity\u001b[0m\u001b[0;34m.\u001b[0m\u001b[0mRH_eq\u001b[0m\u001b[0;34m(\u001b[0m\u001b[0mr_wet\u001b[0m\u001b[0;34m,\u001b[0m \u001b[0mT\u001b[0m\u001b[0;34m,\u001b[0m \u001b[0mv\u001b[0m\u001b[0;34m.\u001b[0m\u001b[0maerosol_modes_per_cc\u001b[0m\u001b[0;34m[\u001b[0m\u001b[0;34m'kappa'\u001b[0m\u001b[0;34m]\u001b[0m\u001b[0;34m[\u001b[0m\u001b[0mlabel\u001b[0m\u001b[0;34m]\u001b[0m\u001b[0;34m,\u001b[0m \u001b[0mrd3\u001b[0m\u001b[0;34m,\u001b[0m \u001b[0msigma\u001b[0m\u001b[0;34m)\u001b[0m\u001b[0;34m\u001b[0m\u001b[0;34m\u001b[0m\u001b[0m\n\u001b[1;32m      7\u001b[0m         \u001b[0;32mif\u001b[0m \u001b[0mlabel\u001b[0m \u001b[0;34m==\u001b[0m \u001b[0;34m\"bulk\"\u001b[0m\u001b[0;34m:\u001b[0m\u001b[0;34m\u001b[0m\u001b[0;34m\u001b[0m\u001b[0m\n",
      "\u001b[0;32m~/anaconda3/envs/pysdm/lib/python3.8/site-packages/numba/core/dispatcher.py\u001b[0m in \u001b[0;36m_compile_for_args\u001b[0;34m(self, *args, **kws)\u001b[0m\n\u001b[1;32m    418\u001b[0m                 \u001b[0me\u001b[0m\u001b[0;34m.\u001b[0m\u001b[0mpatch_message\u001b[0m\u001b[0;34m(\u001b[0m\u001b[0mmsg\u001b[0m\u001b[0;34m)\u001b[0m\u001b[0;34m\u001b[0m\u001b[0;34m\u001b[0m\u001b[0m\n\u001b[1;32m    419\u001b[0m \u001b[0;34m\u001b[0m\u001b[0m\n\u001b[0;32m--> 420\u001b[0;31m             \u001b[0merror_rewrite\u001b[0m\u001b[0;34m(\u001b[0m\u001b[0me\u001b[0m\u001b[0;34m,\u001b[0m \u001b[0;34m'typing'\u001b[0m\u001b[0;34m)\u001b[0m\u001b[0;34m\u001b[0m\u001b[0;34m\u001b[0m\u001b[0m\n\u001b[0m\u001b[1;32m    421\u001b[0m         \u001b[0;32mexcept\u001b[0m \u001b[0merrors\u001b[0m\u001b[0;34m.\u001b[0m\u001b[0mUnsupportedError\u001b[0m \u001b[0;32mas\u001b[0m \u001b[0me\u001b[0m\u001b[0;34m:\u001b[0m\u001b[0;34m\u001b[0m\u001b[0;34m\u001b[0m\u001b[0m\n\u001b[1;32m    422\u001b[0m             \u001b[0;31m# Something unsupported is present in the user code, add help info\u001b[0m\u001b[0;34m\u001b[0m\u001b[0;34m\u001b[0m\u001b[0;34m\u001b[0m\u001b[0m\n",
      "\u001b[0;32m~/anaconda3/envs/pysdm/lib/python3.8/site-packages/numba/core/dispatcher.py\u001b[0m in \u001b[0;36merror_rewrite\u001b[0;34m(e, issue_type)\u001b[0m\n\u001b[1;32m    359\u001b[0m                 \u001b[0;32mraise\u001b[0m \u001b[0me\u001b[0m\u001b[0;34m\u001b[0m\u001b[0;34m\u001b[0m\u001b[0m\n\u001b[1;32m    360\u001b[0m             \u001b[0;32melse\u001b[0m\u001b[0;34m:\u001b[0m\u001b[0;34m\u001b[0m\u001b[0;34m\u001b[0m\u001b[0m\n\u001b[0;32m--> 361\u001b[0;31m                 \u001b[0;32mraise\u001b[0m \u001b[0me\u001b[0m\u001b[0;34m.\u001b[0m\u001b[0mwith_traceback\u001b[0m\u001b[0;34m(\u001b[0m\u001b[0;32mNone\u001b[0m\u001b[0;34m)\u001b[0m\u001b[0;34m\u001b[0m\u001b[0;34m\u001b[0m\u001b[0m\n\u001b[0m\u001b[1;32m    362\u001b[0m \u001b[0;34m\u001b[0m\u001b[0m\n\u001b[1;32m    363\u001b[0m         \u001b[0margtypes\u001b[0m \u001b[0;34m=\u001b[0m \u001b[0;34m[\u001b[0m\u001b[0;34m]\u001b[0m\u001b[0;34m\u001b[0m\u001b[0;34m\u001b[0m\u001b[0m\n",
      "\u001b[0;31mTypingError\u001b[0m: Failed in nopython mode pipeline (step: convert make_function into JIT functions)\n\u001b[1mCannot capture the non-constant value associated with variable 'A_iso' in a function that will escape.\n\u001b[1m\nFile \"../../../PySDM/PySDM/physics/surface_tension/compressed_film_Ruehl.py\", line 32:\u001b[0m\n\u001b[1m    def sigma(T, v_wet, v_dry, f_org):\n        <source elided>\n        # solve implicitly for fraction of organic at surface\n\u001b[1m        f = lambda f_surf: Cb_iso*(1-f_surf) - C0*np.exp(((A0**2 - (A_iso/f_surf)**2)*m_sigma*sci.N_A)/(2*sci.R*T))\n\u001b[0m        \u001b[1m^\u001b[0m\u001b[0m\n\u001b[0m"
     ]
    },
    {
     "data": {
      "image/png": "[encoded data removed]",
      "text/plain": [
       "<Figure size 432x288 with 1 Axes>"
      ]
     },
     "metadata": {
      "needs_background": "light"
     },
     "output_type": "display_data"
    }
   ],
   "source": [
    "rd3 = r_dry**3\n",
    "        \n",
    "for label, formulae in {'bulk': formulae_bulk, 'Ovad': formulae_ovad, 'Ruehl': formulae_ruehl}.items():\n",
    "    for k, v in cases.items():\n",
    "        sigma = formulae.surface_tension.sigma(np.nan, v_wet, v_dry, v.aerosol_modes_per_cc['f_org'])\n",
    "        RH_eq = formulae.hygroscopicity.RH_eq(r_wet, T, v.aerosol_modes_per_cc['kappa'][label], rd3, sigma)\n",
    "        if label == \"bulk\":\n",
    "            linestyle='-'\n",
    "        elif label == \"Ovad\":\n",
    "            linestyle='--'\n",
    "        elif label == \"Ruehl\":\n",
    "            linestyle=':'\n",
    "        else:\n",
    "            linestyle='-.'\n",
    "        pylab.plot(\n",
    "            r_wet / si.nm, \n",
    "            (RH_eq - 1)*100, \n",
    "            label=f\"{label} {k}\", \n",
    "            color=v.color, \n",
    "            linestyle=linestyle\n",
    "        )\n",
    "pylab.grid()\n",
    "pylab.xscale('log')\n",
    "pylab.xticks(r_wet_ticks_nm, r_wet_ticks_nm)\n",
    "pylab.xlabel('Wet radius [nm]')\n",
    "pylab.xlim(r_wet[0] / si.nm, r_wet[-1] / si.nm)\n",
    "pylab.ylabel('Equilibrium supersaturation [%]')\n",
    "yticks = (-.1, 0, .1, .2, .3)\n",
    "pylab.yticks(yticks, yticks)\n",
    "pylab.ylim(yticks[0], .35)\n",
    "pylab.legend()\n",
    "pylab.show()\n",
    "#show_plot()"
   ]
  },
  {
   "cell_type": "markdown",
   "metadata": {},
   "source": [
    "### Fig. 1 d"
   ]
  },
  {
   "cell_type": "code",
   "execution_count": 14,
   "metadata": {},
   "outputs": [
    {
     "ename": "TypingError",
     "evalue": "Failed in nopython mode pipeline (step: convert make_function into JIT functions)\n\u001b[1mCannot capture the non-constant value associated with variable 'A_iso' in a function that will escape.\n\u001b[1m\nFile \"../../../PySDM/PySDM/physics/surface_tension/compressed_film_Ruehl.py\", line 32:\u001b[0m\n\u001b[1m    def sigma(T, v_wet, v_dry, f_org):\n        <source elided>\n        # solve implicitly for fraction of organic at surface\n\u001b[1m        f = lambda f_surf: Cb_iso*(1-f_surf) - C0*np.exp(((A0**2 - (A_iso/f_surf)**2)*m_sigma*sci.N_A)/(2*sci.R*T))\n\u001b[0m        \u001b[1m^\u001b[0m\u001b[0m\n\u001b[0m",
     "output_type": "error",
     "traceback": [
      "\u001b[0;31m---------------------------------------------------------------------------\u001b[0m",
      "\u001b[0;31mTypingError\u001b[0m                               Traceback (most recent call last)",
      "\u001b[0;32m<ipython-input-14-50898db92df2>\u001b[0m in \u001b[0;36m<module>\u001b[0;34m\u001b[0m\n\u001b[1;32m      9\u001b[0m         \u001b[0mlinestyle\u001b[0m\u001b[0;34m=\u001b[0m\u001b[0;34m'-.'\u001b[0m\u001b[0;34m\u001b[0m\u001b[0;34m\u001b[0m\u001b[0m\n\u001b[1;32m     10\u001b[0m     \u001b[0;32mfor\u001b[0m \u001b[0mk\u001b[0m\u001b[0;34m,\u001b[0m \u001b[0mv\u001b[0m \u001b[0;32min\u001b[0m \u001b[0mcases\u001b[0m\u001b[0;34m.\u001b[0m\u001b[0mitems\u001b[0m\u001b[0;34m(\u001b[0m\u001b[0;34m)\u001b[0m\u001b[0;34m:\u001b[0m\u001b[0;34m\u001b[0m\u001b[0;34m\u001b[0m\u001b[0m\n\u001b[0;32m---> 11\u001b[0;31m         \u001b[0msigma\u001b[0m \u001b[0;34m=\u001b[0m \u001b[0mformulae\u001b[0m\u001b[0;34m.\u001b[0m\u001b[0msurface_tension\u001b[0m\u001b[0;34m.\u001b[0m\u001b[0msigma\u001b[0m\u001b[0;34m(\u001b[0m\u001b[0mnp\u001b[0m\u001b[0;34m.\u001b[0m\u001b[0mnan\u001b[0m\u001b[0;34m,\u001b[0m \u001b[0mv_wet\u001b[0m\u001b[0;34m,\u001b[0m \u001b[0mv_dry\u001b[0m\u001b[0;34m,\u001b[0m \u001b[0mv\u001b[0m\u001b[0;34m.\u001b[0m\u001b[0maerosol_modes_per_cc\u001b[0m\u001b[0;34m[\u001b[0m\u001b[0;34m'f_org'\u001b[0m\u001b[0;34m]\u001b[0m\u001b[0;34m)\u001b[0m\u001b[0;34m\u001b[0m\u001b[0;34m\u001b[0m\u001b[0m\n\u001b[0m\u001b[1;32m     12\u001b[0m         \u001b[0mpylab\u001b[0m\u001b[0;34m.\u001b[0m\u001b[0mplot\u001b[0m\u001b[0;34m(\u001b[0m\u001b[0mr_wet\u001b[0m \u001b[0;34m/\u001b[0m \u001b[0msi\u001b[0m\u001b[0;34m.\u001b[0m\u001b[0mnm\u001b[0m\u001b[0;34m,\u001b[0m \u001b[0msigma\u001b[0m \u001b[0;34m/\u001b[0m \u001b[0;34m(\u001b[0m\u001b[0msi\u001b[0m\u001b[0;34m.\u001b[0m\u001b[0mmN\u001b[0m \u001b[0;34m/\u001b[0m \u001b[0msi\u001b[0m\u001b[0;34m.\u001b[0m\u001b[0mm\u001b[0m\u001b[0;34m)\u001b[0m\u001b[0;34m,\u001b[0m \u001b[0mlabel\u001b[0m\u001b[0;34m=\u001b[0m\u001b[0mlabel\u001b[0m\u001b[0;34m,\u001b[0m \u001b[0mcolor\u001b[0m\u001b[0;34m=\u001b[0m\u001b[0mv\u001b[0m\u001b[0;34m.\u001b[0m\u001b[0mcolor\u001b[0m\u001b[0;34m,\u001b[0m \u001b[0mlinestyle\u001b[0m\u001b[0;34m=\u001b[0m\u001b[0mlinestyle\u001b[0m\u001b[0;34m)\u001b[0m\u001b[0;34m\u001b[0m\u001b[0;34m\u001b[0m\u001b[0m\n\u001b[1;32m     13\u001b[0m \u001b[0;34m\u001b[0m\u001b[0m\n",
      "\u001b[0;32m~/anaconda3/envs/pysdm/lib/python3.8/site-packages/numba/core/dispatcher.py\u001b[0m in \u001b[0;36m_compile_for_args\u001b[0;34m(self, *args, **kws)\u001b[0m\n\u001b[1;32m    418\u001b[0m                 \u001b[0me\u001b[0m\u001b[0;34m.\u001b[0m\u001b[0mpatch_message\u001b[0m\u001b[0;34m(\u001b[0m\u001b[0mmsg\u001b[0m\u001b[0;34m)\u001b[0m\u001b[0;34m\u001b[0m\u001b[0;34m\u001b[0m\u001b[0m\n\u001b[1;32m    419\u001b[0m \u001b[0;34m\u001b[0m\u001b[0m\n\u001b[0;32m--> 420\u001b[0;31m             \u001b[0merror_rewrite\u001b[0m\u001b[0;34m(\u001b[0m\u001b[0me\u001b[0m\u001b[0;34m,\u001b[0m \u001b[0;34m'typing'\u001b[0m\u001b[0;34m)\u001b[0m\u001b[0;34m\u001b[0m\u001b[0;34m\u001b[0m\u001b[0m\n\u001b[0m\u001b[1;32m    421\u001b[0m         \u001b[0;32mexcept\u001b[0m \u001b[0merrors\u001b[0m\u001b[0;34m.\u001b[0m\u001b[0mUnsupportedError\u001b[0m \u001b[0;32mas\u001b[0m \u001b[0me\u001b[0m\u001b[0;34m:\u001b[0m\u001b[0;34m\u001b[0m\u001b[0;34m\u001b[0m\u001b[0m\n\u001b[1;32m    422\u001b[0m             \u001b[0;31m# Something unsupported is present in the user code, add help info\u001b[0m\u001b[0;34m\u001b[0m\u001b[0;34m\u001b[0m\u001b[0;34m\u001b[0m\u001b[0m\n",
      "\u001b[0;32m~/anaconda3/envs/pysdm/lib/python3.8/site-packages/numba/core/dispatcher.py\u001b[0m in \u001b[0;36merror_rewrite\u001b[0;34m(e, issue_type)\u001b[0m\n\u001b[1;32m    359\u001b[0m                 \u001b[0;32mraise\u001b[0m \u001b[0me\u001b[0m\u001b[0;34m\u001b[0m\u001b[0;34m\u001b[0m\u001b[0m\n\u001b[1;32m    360\u001b[0m             \u001b[0;32melse\u001b[0m\u001b[0;34m:\u001b[0m\u001b[0;34m\u001b[0m\u001b[0;34m\u001b[0m\u001b[0m\n\u001b[0;32m--> 361\u001b[0;31m                 \u001b[0;32mraise\u001b[0m \u001b[0me\u001b[0m\u001b[0;34m.\u001b[0m\u001b[0mwith_traceback\u001b[0m\u001b[0;34m(\u001b[0m\u001b[0;32mNone\u001b[0m\u001b[0;34m)\u001b[0m\u001b[0;34m\u001b[0m\u001b[0;34m\u001b[0m\u001b[0m\n\u001b[0m\u001b[1;32m    362\u001b[0m \u001b[0;34m\u001b[0m\u001b[0m\n\u001b[1;32m    363\u001b[0m         \u001b[0margtypes\u001b[0m \u001b[0;34m=\u001b[0m \u001b[0;34m[\u001b[0m\u001b[0;34m]\u001b[0m\u001b[0;34m\u001b[0m\u001b[0;34m\u001b[0m\u001b[0m\n",
      "\u001b[0;31mTypingError\u001b[0m: Failed in nopython mode pipeline (step: convert make_function into JIT functions)\n\u001b[1mCannot capture the non-constant value associated with variable 'A_iso' in a function that will escape.\n\u001b[1m\nFile \"../../../PySDM/PySDM/physics/surface_tension/compressed_film_Ruehl.py\", line 32:\u001b[0m\n\u001b[1m    def sigma(T, v_wet, v_dry, f_org):\n        <source elided>\n        # solve implicitly for fraction of organic at surface\n\u001b[1m        f = lambda f_surf: Cb_iso*(1-f_surf) - C0*np.exp(((A0**2 - (A_iso/f_surf)**2)*m_sigma*sci.N_A)/(2*sci.R*T))\n\u001b[0m        \u001b[1m^\u001b[0m\u001b[0m\n\u001b[0m"
     ]
    },
    {
     "data": {
      "image/png": "[encoded data removed]",
      "text/plain": [
       "<Figure size 432x288 with 1 Axes>"
      ]
     },
     "metadata": {
      "needs_background": "light"
     },
     "output_type": "display_data"
    }
   ],
   "source": [
    "for label, formulae in {'Ovad': formulae_ovad, 'Ruehl': formulae_ruehl}.items():\n",
    "    if label == \"bulk\":\n",
    "        linestyle='-'\n",
    "    elif label == \"Ovad\":\n",
    "        linestyle='--'\n",
    "    elif label == \"Ruehl\":\n",
    "        linestyle=':'\n",
    "    else:\n",
    "        linestyle='-.'\n",
    "    for k, v in cases.items():\n",
    "        sigma = formulae.surface_tension.sigma(np.nan, v_wet, v_dry, v.aerosol_modes_per_cc['f_org'])\n",
    "        pylab.plot(r_wet / si.nm, sigma / (si.mN / si.m), label=label, color=v.color, linestyle=linestyle)\n",
    "\n",
    "pylab.plot(r_wet / si.nm, np.full_like(r_wet, const.sgm_w / (si.mN / si.m)), label='pure water', color='gray')\n",
    "pylab.grid()\n",
    "pylab.xscale('log')\n",
    "pylab.xticks(r_wet_ticks_nm, r_wet_ticks_nm)\n",
    "yticks = (20, 40, 60, 80)\n",
    "pylab.yticks(yticks, yticks)\n",
    "pylab.xlim(r_wet[0] / si.nm, r_wet[-1] / si.nm)\n",
    "pylab.ylim(30, 85)\n",
    "pylab.xlabel('Wet radius [nm]')\n",
    "pylab.ylabel('Surface tension [mN m$^{-1}$]')\n",
    "pylab.legend()\n",
    "pylab.savefig(\"fig1d.png\")\n",
    "pylab.show()\n",
    "#show_plot()"
   ]
  },
  {
   "cell_type": "code",
   "execution_count": null,
   "metadata": {},
   "outputs": [],
   "source": []
  }
 ],
 "metadata": {
  "kernelspec": {
   "display_name": "Python 3",
   "language": "python",
   "name": "python3"
  },
  "language_info": {
   "codemirror_mode": {
    "name": "ipython",
    "version": 3
   },
   "file_extension": ".py",
   "mimetype": "text/x-python",
   "name": "python",
   "nbconvert_exporter": "python",
   "pygments_lexer": "ipython3",
   "version": "3.8.3"
  }
 },
 "nbformat": 4,
 "nbformat_minor": 4
}
