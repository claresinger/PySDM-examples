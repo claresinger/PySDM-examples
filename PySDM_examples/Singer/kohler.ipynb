{
 "cells": [
  {
   "cell_type": "markdown",
   "metadata": {
    "pycharm": {
     "name": "#%% md\n"
    }
   },
   "source": [
    "[![Binder](https://mybinder.org/badge_logo.svg)](https://mybinder.org/v2/gh/atmos-cloud-sim-uj/PySDM-examples.git/main?urlpath=PySDM_examples/Lowe_et_al_2019/fig_2.ipynb)\n",
    "[![Open In Colab](https://colab.research.google.com/assets/colab-badge.svg)](https://colab.research.google.com/github/atmos-cloud-sim-uj/PySDM-examples/blob/main/PySDM_examples/Lowe_et_al_2019/fig_2.ipynb)"
   ]
  },
  {
   "cell_type": "markdown",
   "metadata": {},
   "source": [
    "#### based on Fig. 1 from Lowe et al. 2019 (Nature Comm.)  \"_Key drivers of cloud response to surface-active organics_\"\n",
    "https://doi.org/10.1038/s41467-019-12982-0"
   ]
  },
  {
   "cell_type": "code",
   "execution_count": 1,
   "metadata": {
    "pycharm": {
     "name": "#%%\n"
    }
   },
   "outputs": [],
   "source": [
    "import sys\n",
    "if 'google.colab' in sys.modules:\n",
    "    !pip --quiet install atmos-cloud-sim-uj-utils\n",
    "    from atmos_cloud_sim_uj_utils import pip_install_on_colab\n",
    "    pip_install_on_colab('PySDM-examples')"
   ]
  },
  {
   "cell_type": "code",
   "execution_count": 101,
   "metadata": {
    "pycharm": {
     "name": "#%%\n"
    }
   },
   "outputs": [],
   "source": [
    "from matplotlib import pylab\n",
    "import numpy as np\n",
    "\n",
    "# import sys\n",
    "# sys.path.insert(0,\"/Users/claresinger/Research/PySDM\")\n",
    "# print(sys.path)\n",
    "\n",
    "from PySDM import Formulae\n",
    "from PySDM.physics import si\n",
    "from PySDM.physics import constants_defaults as const\n",
    "from atmos_cloud_sim_uj_utils import show_plot\n",
    "from PySDM_examples.Singer.aerosol import AerosolBetaCary"
   ]
  },
  {
   "cell_type": "code",
   "execution_count": 110,
   "metadata": {},
   "outputs": [],
   "source": [
    "cases = {'BetaCary': AerosolBetaCary()}\n",
    "aer = AerosolBetaCary()\n",
    "\n",
    "formulae_bulk = Formulae(surface_tension='Constant')\n",
    "\n",
    "formulae_ovad = Formulae(\n",
    "    surface_tension='CompressedFilmOvadnevaite',\n",
    "    constants={\n",
    "        'sgm_org': 34.77 * si.mN / si.m,\n",
    "        'delta_min': 1.73 * si.nm  # TODO #604 0.2 in the paper, but 0.1 matches the paper plots\n",
    "    }\n",
    ")\n",
    "\n",
    "formulae_ruehl = Formulae(\n",
    "    surface_tension='CompressedFilmRuehl',\n",
    "    constants={\n",
    "        'RUEHL_nu_org': aer.aerosol_modes_per_cc[0]['nu_org'],\n",
    "        'RUEHL_A0': 115e-20 * si.m * si.m,\n",
    "        'RUEHL_C0': 6e-7,\n",
    "        'RUEHL_m_sigma': 0.3e17 * si.J / si.m**2,\n",
    "        'RUEHL_sgm_min': 40 * si.mN / si.m\n",
    "    }\n",
    ")\n",
    "\n",
    "from scipy import constants as sci\n",
    "from scipy import optimize\n",
    "def sigR(T, v_wet, v_dry, f_org):\n",
    "    nu_org= aer.aerosol_modes_per_cc[0]['nu_org']\n",
    "    A0= 115e-20 * si.m * si.m\n",
    "    C0= 6e-7\n",
    "    m_sigma = 0.3e17 * si.J / si.m**2\n",
    "    sgm_min = 34.77 * si.mN / si.m\n",
    "    \n",
    "    r_wet = ((3 * v_wet) / (4 * np.pi))**(1/3) # m - wet radius\n",
    "\n",
    "    # C_bulk is the concentration of the organic in the bulk phase\n",
    "    Cb_iso = (f_org*v_dry/nu_org) / (v_wet/const.nu_w) # = C_bulk / (1-f_surf)\n",
    "\n",
    "    # A is the area that one molecule of organic occupies at the droplet surface\n",
    "    A_iso = (4 * np.pi * r_wet**2) / (f_org * v_dry * sci.N_A / nu_org) # m^2 = A*f_surf\n",
    "\n",
    "    # solve implicitly for fraction of organic at surface\n",
    "    a = A0 / A_iso\n",
    "    c = Cb_iso / C0\n",
    "    f = lambda f_surf: a*f_surf - (c*(1-f_surf)) / (1 + c*(1-f_surf))\n",
    "    sol = optimize.root_scalar(f, bracket=[0, 1])\n",
    "    f_surf = sol.root\n",
    "\n",
    "    # calculate surface tension\n",
    "    sgm = const.sgm_w - ((sci.R*T)/(A0*sci.N_A)) * np.log(1 + Cb_iso*(1-f_surf)/C0)\n",
    "    sgm = np.minimum(np.maximum(sgm, sgm_min), const.sgm_w)\n",
    "    return sgm\n",
    "\n",
    "## from Ryan\n",
    "# A0=115, ln(C0)=-4, and m=0.3\n",
    "# MW_inorg = 132;  # ammonium sulfate\n",
    "# MW_H2O = 0.018015;\n",
    "# VHF_org = 1;     # vant hoff factor\n",
    "# VHF_inorg = 2.6;\n",
    "# pw = 997;\n",
    "# rho_inorg = 1.77 * 1e3;  # kg m-3 \n",
    "# MW_inorg = 0.13214;       # kg mol-1\n",
    "# rho_org = 905;             # kg m-3\n",
    "# MW_org = 0.20436;         # kg mol-1\n",
    "\n",
    "# formulae_sl = Formulae(\n",
    "#     surface_tension='SzyszkowskiLangmuir',\n",
    "#     constants={\n",
    "#         'RUEHL_nu_org': aer.aerosol_modes_per_cc[0]['nu_org'],\n",
    "#         'RUEHL_A0': 115e-20 * si.m * si.m,\n",
    "#         'RUEHL_C0': 6e-7,\n",
    "#         'RUEHL_sgm_min': 40 * si.mN / si.m\n",
    "#     }\n",
    "# )\n",
    "formulae_sl = Formulae(\n",
    "    surface_tension='CompressedFilmRuehl',\n",
    "    constants={\n",
    "        'RUEHL_nu_org': aer.aerosol_modes_per_cc[0]['nu_org'],\n",
    "        'RUEHL_A0': 115e-20 * si.m * si.m,\n",
    "        'RUEHL_C0': 6e-7,\n",
    "        'RUEHL_m_sigma': 0.3e17 * si.J / si.m**2,\n",
    "        'RUEHL_sgm_min': 40 * si.mN / si.m\n",
    "    }\n",
    ")\n",
    "\n",
    "def sigSL(T, v_wet, v_dry, f_org):\n",
    "    nu_org= aer.aerosol_modes_per_cc[0]['nu_org']\n",
    "    A0= 110e-20 * si.m * si.m\n",
    "    C0= 6e-7\n",
    "    sgm_min = 34.77 * si.mN / si.m\n",
    "    \n",
    "    r_wet = ((3 * v_wet) / (4 * np.pi))**(1/3) # m - wet radius\n",
    "\n",
    "    # C_bulk is the concentration of the organic in the bulk phase\n",
    "    Cb_iso = (f_org*v_dry/nu_org) / (v_wet/const.nu_w) # = C_bulk / (1-f_surf)\n",
    "\n",
    "    # A is the area that one molecule of organic occupies at the droplet surface\n",
    "    A_iso = (4 * np.pi * r_wet**2) / (f_org * v_dry * sci.N_A / nu_org) # m^2 = A*f_surf\n",
    "\n",
    "    a = -A0 / A_iso\n",
    "    b = A0 / A_iso + (A0 / A_iso)*(C0 / Cb_iso) + 1\n",
    "    c = -1\n",
    "    f_surf = (-b + np.sqrt(b**2 - 4*a*c))/(2*a)\n",
    "\n",
    "    # calculate surface tension\n",
    "    sgm = const.sgm_w - ((sci.R*T)/(A0*sci.N_A)) * np.log(1 + Cb_iso*(1-f_surf)/C0)\n",
    "    sgm = np.minimum(np.maximum(sgm, sgm_min), const.sgm_w)\n",
    "    return sgm\n",
    "\n",
    "r_wet = np.logspace(np.log(50 * si.nm), np.log(2000 * si.nm), base=np.e, num=100)\n",
    "r_dry = 50 * si.nm\n",
    "v_wet = formulae_ovad.trivia.volume(r_wet)\n",
    "v_dry = formulae_ovad.trivia.volume(r_dry)\n",
    "T=300 * si.K\n",
    "r_wet_ticks_nm = (100,300, 500, 1000, 2000)\n",
    "lines = {'bulk': '-', 'Ovad': '--', 'Ruehl': ':', 'SL': '-.'}"
   ]
  },
  {
   "cell_type": "markdown",
   "metadata": {},
   "source": [
    "### Surface tension"
   ]
  },
  {
   "cell_type": "code",
   "execution_count": 111,
   "metadata": {},
   "outputs": [
    {
     "data": {
      "image/png": "[encoded data removed]",
      "text/plain": [
       "<Figure size 432x288 with 1 Axes>"
      ]
     },
     "metadata": {
      "needs_background": "light"
     },
     "output_type": "display_data"
    }
   ],
   "source": [
    "for label, formulae in {'bulk': formulae_bulk, 'Ovad': formulae_ovad, 'Ruehl': formulae_ruehl, 'SL': formulae_sl}.items():\n",
    "    for k, v in cases.items():\n",
    "        sigma = np.zeros(len(v_wet))\n",
    "        if label == \"bulk\":\n",
    "            sigma = np.ones(len(v_wet)) * formulae.surface_tension.sigma(T, v_wet, v_dry, v.aerosol_modes_per_cc[0]['f_org'])\n",
    "        elif label == \"Ruehl\":\n",
    "            for i, vw in enumerate(v_wet):\n",
    "                sigma[i] = sigR(T, vw, v_dry, v.aerosol_modes_per_cc[0]['f_org'])\n",
    "        elif label == \"SL\":\n",
    "            sigma = sigSL(T, v_wet, v_dry, v.aerosol_modes_per_cc[0]['f_org'])\n",
    "        else:\n",
    "            sigma = formulae.surface_tension.sigma(T, v_wet, v_dry, v.aerosol_modes_per_cc[0]['f_org'])\n",
    "        \n",
    "        pylab.plot(r_wet / si.nm, sigma / (si.mN / si.m), label=label, color=v.color, linestyle=lines[label])\n",
    "\n",
    "pylab.grid()\n",
    "pylab.xscale('log')\n",
    "pylab.xticks(r_wet_ticks_nm, r_wet_ticks_nm)\n",
    "yticks = (20, 40, 60, 80)\n",
    "pylab.yticks(yticks, yticks)\n",
    "pylab.xlim(r_wet[0] / si.nm, r_wet[-1] / si.nm)\n",
    "pylab.ylim(20, 85)\n",
    "pylab.xlabel('Wet radius [nm]')\n",
    "pylab.ylabel('Surface tension [mN m$^{-1}$]')\n",
    "pylab.legend(loc=4)\n",
    "pylab.show()\n",
    "#show_plot()"
   ]
  },
  {
   "cell_type": "markdown",
   "metadata": {},
   "source": [
    "### Kohler curves"
   ]
  },
  {
   "cell_type": "code",
   "execution_count": 5,
   "metadata": {},
   "outputs": [
    {
     "data": {
      "image/png": "[encoded data removed]",
      "text/plain": [
       "<Figure size 432x288 with 1 Axes>"
      ]
     },
     "metadata": {
      "needs_background": "light"
     },
     "output_type": "display_data"
    },
    {
     "name": "stdout",
     "output_type": "stream",
     "text": [
      "[[ 5.00000000e-08 -6.12513708e+00 -7.20069018e+00]\n",
      " [ 5.18982159e-08 -5.33341363e+00 -6.36962757e+00]\n",
      " [ 5.38684963e-08 -4.63068876e+00 -5.62900240e+00]\n",
      " [ 5.59135770e-08 -4.00735720e+00 -4.96915678e+00]\n",
      " [ 5.80362979e-08 -3.45483661e+00 -4.38145765e+00]\n",
      " [ 6.02396063e-08 -2.96545913e+00 -3.85818832e+00]\n",
      " [ 6.25265619e-08 -2.53237440e+00 -3.39245136e+00]\n",
      " [ 6.49003402e-08 -2.14946289e+00 -2.97808188e+00]\n",
      " [ 6.73642374e-08 -1.81125832e+00 -2.60956996e+00]\n",
      " [ 6.99216747e-08 -1.51287843e+00 -2.28199122e+00]\n",
      " [ 7.25762034e-08 -1.24996290e+00 -1.99094483e+00]\n",
      " [ 7.53315095e-08 -1.01861805e+00 -1.73249801e+00]\n",
      " [ 7.81914189e-08 -8.15367188e-01 -1.50313645e+00]\n",
      " [ 8.11599028e-08 -6.37106386e-01 -1.29971998e+00]\n",
      " [ 8.42410832e-08 -4.81064841e-01 -1.11944285e+00]\n",
      " [ 8.74392385e-08 -3.44769471e-01 -9.59798326e-01]\n",
      " [ 9.07588096e-08 -2.26013257e-01 -8.18546974e-01]\n",
      " [ 9.42044059e-08 -1.22826942e-01 -6.93688296e-01]\n",
      " [ 9.77808119e-08 -3.34537184e-02 -5.83435394e-01]\n",
      " [ 1.01492994e-07  4.36733878e-02 -4.86192298e-01]\n",
      " [ 1.05346106e-07  1.09951744e-01 -4.00533710e-01]\n",
      " [ 1.09345499e-07  1.66627190e-01 -3.25186877e-01]\n",
      " [ 1.13496727e-07  2.14810204e-01 -2.59015398e-01]\n",
      " [ 1.17805552e-07  2.55490343e-01 -2.01004734e-01]\n",
      " [ 1.22277960e-07  2.89549169e-01 -1.50249261e-01]\n",
      " [ 1.26920159e-07  3.17771784e-01 -1.05940691e-01]\n",
      " [ 1.31738597e-07  3.40857154e-01 -6.73577215e-02]\n",
      " [ 1.36739963e-07  3.59427332e-01 -3.38567802e-02]\n",
      " [ 1.41931202e-07  3.74035702e-01 -4.86375104e-03]\n",
      " [ 1.47319523e-07  3.85174345e-01  2.17350202e-02]\n",
      " [ 1.52912409e-07  3.93280628e-01  6.84197665e-02]\n",
      " [ 1.58717624e-07  3.98743084e-01  1.08361051e-01]\n",
      " [ 1.64743230e-07  4.01906673e-01  1.42340132e-01]\n",
      " [ 1.70997595e-07  4.03077482e-01  1.71052869e-01]\n",
      " [ 1.77489402e-07  4.02526923e-01  1.95118903e-01]\n",
      " [ 1.84227666e-07  4.00495483e-01  2.15089839e-01]\n",
      " [ 1.91221744e-07  3.97196079e-01  2.31456568e-01]\n",
      " [ 1.98481347e-07  3.92817049e-01  2.44655795e-01]\n",
      " [ 2.06016556e-07  3.87524830e-01  2.55075878e-01]\n",
      " [ 2.13837834e-07  3.81466341e-01  2.63062035e-01]\n",
      " [ 2.21956041e-07  3.74771127e-01  2.68921002e-01]\n",
      " [ 2.30382451e-07  3.67553252e-01  2.72925184e-01]\n",
      " [ 2.39128764e-07  3.59913013e-01  2.75316370e-01]\n",
      " [ 2.48207124e-07  3.51938448e-01  2.76309046e-01]\n",
      " [ 2.57630139e-07  3.43706700e-01  2.76093355e-01]\n",
      " [ 2.67410891e-07  3.35285225e-01  2.74837738e-01]\n",
      " [ 2.77562963e-07  3.26732872e-01  2.72691297e-01]\n",
      " [ 2.88100452e-07  3.18100846e-01  2.69785898e-01]\n",
      " [ 2.99037989e-07  3.09433573e-01  2.66238056e-01]\n",
      " [ 3.10390763e-07  3.00769459e-01  2.62150610e-01]\n",
      " [ 3.22174536e-07  2.92141585e-01  2.57614226e-01]\n",
      " [ 3.34405673e-07  2.83578307e-01  2.52708733e-01]\n",
      " [ 3.47101156e-07  2.75103807e-01  2.47504318e-01]\n",
      " [ 3.60278615e-07  2.66738574e-01  2.42062590e-01]\n",
      " [ 3.73956347e-07  2.58499838e-01  2.36437536e-01]\n",
      " [ 3.88153345e-07  2.50401952e-01  2.30676364e-01]\n",
      " [ 4.02889322e-07  2.42456738e-01  2.24820264e-01]\n",
      " [ 4.18184740e-07  2.34673792e-01  2.18905081e-01]\n",
      " [ 4.34060839e-07  2.27060750e-01  2.12961919e-01]\n",
      " [ 4.50539663e-07  2.19623537e-01  2.07017678e-01]\n",
      " [ 4.67644094e-07  2.12366575e-01  2.01095532e-01]\n",
      " [ 4.85397883e-07  2.05292976e-01  1.95215356e-01]\n",
      " [ 5.03825683e-07  1.98404715e-01  1.89394108e-01]\n",
      " [ 5.22953081e-07  1.91702772e-01  1.83646166e-01]\n",
      " [ 5.42806638e-07  1.85187275e-01  1.77983630e-01]\n",
      " [ 5.63413922e-07  1.78857611e-01  1.72416595e-01]\n",
      " [ 5.84803548e-07  1.72712531e-01  1.66953383e-01]\n",
      " [ 6.07005216e-07  1.66750249e-01  1.61600763e-01]\n",
      " [ 6.30049755e-07  1.60968517e-01  1.56364135e-01]\n",
      " [ 6.53969164e-07  1.55364699e-01  1.51247703e-01]\n",
      " [ 6.78796658e-07  1.49935837e-01  1.46254623e-01]\n",
      " [ 7.04566710e-07  1.44678706e-01  1.41387134e-01]\n",
      " [ 7.31315105e-07  1.39589863e-01  1.36646681e-01]\n",
      " [ 7.59078984e-07  1.34665689e-01  1.32034015e-01]\n",
      " [ 7.87896900e-07  1.29902433e-01  1.27549288e-01]\n",
      " [ 8.17808869e-07  1.25296237e-01  1.23192137e-01]\n",
      " [ 8.48856425e-07  1.20843172e-01  1.18961753e-01]\n",
      " [ 8.81082680e-07  1.16539259e-01  1.14856950e-01]\n",
      " [ 9.14532384e-07  1.12380496e-01  1.10876220e-01]\n",
      " [ 9.49251982e-07  1.08362869e-01  1.07017783e-01]\n",
      " [ 9.85289686e-07  1.04482378e-01  1.03279633e-01]\n",
      " [ 1.02269554e-06  1.00735045e-01  9.96595741e-02]\n",
      " [ 1.06152148e-06  9.71169269e-02  9.61552604e-02]\n",
      " [ 1.10182142e-06  9.36241277e-02  9.27642211e-02]\n",
      " [ 1.14365131e-06  9.02528060e-02  8.94838897e-02]\n",
      " [ 1.18706926e-06  8.69991821e-02  8.63116266e-02]\n",
      " [ 1.23213553e-06  8.38595445e-02  8.32447396e-02]\n",
      " [ 1.27891272e-06  8.08302548e-02  8.02805016e-02]\n",
      " [ 1.32746577e-06  7.79077515e-02  7.74161661e-02]\n",
      " [ 1.37786210e-06  7.50885530e-02  7.46489801e-02]\n",
      " [ 1.43017169e-06  7.23692605e-02  7.19761961e-02]\n",
      " [ 1.48446719e-06  6.97465591e-02  6.93950818e-02]\n",
      " [ 1.54082397e-06  6.72172193e-02  6.69029286e-02]\n",
      " [ 1.59932030e-06  6.47780977e-02  6.44970589e-02]\n",
      " [ 1.66003741e-06  6.24261372e-02  6.21748318e-02]\n",
      " [ 1.72305960e-06  6.01583668e-02  5.99336487e-02]\n",
      " [ 1.78847438e-06  5.79719012e-02  5.77709573e-02]\n",
      " [ 1.85637259e-06  5.58639401e-02  5.56842549e-02]\n",
      " [ 1.92684851e-06  5.38317673e-02  5.36710916e-02]\n",
      " [ 2.00000000e-06  5.18727496e-02  5.17290721e-02]]\n"
     ]
    }
   ],
   "source": [
    "rd3 = r_dry**3\n",
    "\n",
    "dat = np.zeros((len(r_wet), 3))\n",
    "dat[:,0] = r_wet\n",
    "i = 1\n",
    "\n",
    "# for label, formulae in {'bulk': formulae_bulk, 'Ovad': formulae_ovad, 'Ruehl': formulae_ruehl, 'SL': formulae_sl}.items():\n",
    "for label, formulae in {'bulk': formulae_bulk, 'Ovad': formulae_ovad}.items():\n",
    "    for k, v in cases.items():\n",
    "        sigma = formulae.surface_tension.sigma(T, v_wet, v_dry, v.aerosol_modes_per_cc[0]['f_org'])\n",
    "        RH_eq = formulae.hygroscopicity.RH_eq(r_wet, T, v.aerosol_modes_per_cc[0]['kappa'][label], rd3, sigma)\n",
    "        pylab.plot(\n",
    "            r_wet / si.nm, \n",
    "            (RH_eq - 1)*100, \n",
    "            label=f\"{label} {k}\", \n",
    "            color=v.color, \n",
    "            linestyle=lines[label]\n",
    "        )\n",
    "        dat[:,i] = (RH_eq - 1)*100\n",
    "        i += 1\n",
    "pylab.grid()\n",
    "pylab.xscale('log')\n",
    "pylab.xticks(r_wet_ticks_nm, r_wet_ticks_nm)\n",
    "pylab.xlabel('Wet radius [nm]')\n",
    "pylab.xlim(r_wet[0] / si.nm, r_wet[-1] / si.nm)\n",
    "pylab.ylabel('Equilibrium supersaturation [%]')\n",
    "yticks = (-.1, 0, .1, .2, .3, .4)\n",
    "pylab.yticks(yticks, yticks)\n",
    "pylab.ylim(yticks[0], .45)\n",
    "pylab.legend()\n",
    "pylab.show()\n",
    "#show_plot()\n",
    "\n",
    "print(dat)\n",
    "np.savetxt(\"Ryan_kohler.csv\", dat, delimiter=',', fmt='%.4e', header=\"r wet (m), SS (bulk), SS (film)\")"
   ]
  },
  {
   "cell_type": "markdown",
   "metadata": {},
   "source": [
    "### Critical radius"
   ]
  },
  {
   "cell_type": "code",
   "execution_count": 6,
   "metadata": {},
   "outputs": [
    {
     "data": {
      "image/png": "[encoded data removed]",
      "text/plain": [
       "<Figure size 432x288 with 1 Axes>"
      ]
     },
     "metadata": {
      "needs_background": "light"
     },
     "output_type": "display_data"
    }
   ],
   "source": [
    "r_dry = np.logspace(np.log(50 * si.nm), np.log(300 * si.nm), base=np.e, num=100)\n",
    "v_dry = formulae_ovad.trivia.volume(r_dry)\n",
    "rd3 = r_dry**3\n",
    "\n",
    "#for label, formulae in {'bulk': formulae_bulk, 'Ovad': formulae_ovad, 'Ruehl': formulae_ruehl, 'SL': formulae_sl}.items():\n",
    "for label, formulae in {'bulk': formulae_bulk, 'Ovad': formulae_ovad}.items():\n",
    "    for k, v in cases.items():\n",
    "        sigma = formulae.surface_tension.sigma(T, v_wet, v_dry, v.aerosol_modes_per_cc[0]['f_org'])\n",
    "        rcrit = formulae.hygroscopicity.r_cr(v.aerosol_modes_per_cc[0]['kappa'][label], rd3, T, sigma)\n",
    "        \n",
    "        pylab.plot(\n",
    "            r_dry / si.nm, \n",
    "            rcrit / si.nm, \n",
    "            label=f\"{label} {k}\", \n",
    "            color=v.color, \n",
    "            linestyle=lines[label]\n",
    "        )\n",
    "pylab.grid()\n",
    "pylab.xscale('log')\n",
    "r_dry_ticks_nm = (50, 75, 100, 150, 200, 300)\n",
    "pylab.xticks(r_dry_ticks_nm, r_dry_ticks_nm)\n",
    "pylab.xlabel('Dry radius [nm]')\n",
    "pylab.xlim(r_dry[0] / si.nm, r_dry[-1] / si.nm)\n",
    "pylab.ylabel('Critical radius [nm]')\n",
    "#yticks = (-.1, 0, .1, .2, .3)\n",
    "#pylab.yticks(yticks, yticks)\n",
    "#pylab.ylim(yticks[0], .35)\n",
    "pylab.legend()\n",
    "pylab.show()\n",
    "#show_plot()"
   ]
  },
  {
   "cell_type": "markdown",
   "metadata": {},
   "source": [
    "### Effective Hygroscopicity, $\\kappa_{eff}$"
   ]
  },
  {
   "cell_type": "code",
   "execution_count": 7,
   "metadata": {},
   "outputs": [
    {
     "data": {
      "image/png": "[encoded data removed]",
      "text/plain": [
       "<Figure size 432x288 with 1 Axes>"
      ]
     },
     "metadata": {
      "needs_background": "light"
     },
     "output_type": "display_data"
    }
   ],
   "source": [
    "# for label, formulae in {'bulk': formulae_bulk, 'Ovad': formulae_ovad, 'Ruehl': formulae_ruehl, 'SL': formulae_sl}.items():\n",
    "for label, formulae in {'bulk': formulae_bulk, 'Ovad': formulae_ovad}.items():\n",
    "    for k, v in cases.items():\n",
    "        sigma = formulae.surface_tension.sigma(T, v_wet, v_dry, v.aerosol_modes_per_cc[0]['f_org'])\n",
    "        rcrit = formulae.hygroscopicity.r_cr(v.aerosol_modes_per_cc[0]['kappa'][label], rd3, T, sigma)\n",
    "        kap_eff = (2 * rcrit**2) / (3 * r_dry**3 * const.Rv * T * const.rho_w) * const.sgm_w\n",
    "        \n",
    "        pylab.plot(\n",
    "            r_dry / si.nm, \n",
    "            kap_eff, \n",
    "            label=f\"{label} {k}\", \n",
    "            color=v.color, \n",
    "            linestyle=lines[label]\n",
    "        )\n",
    "pylab.grid()\n",
    "pylab.xscale('log')\n",
    "pylab.xticks(r_dry_ticks_nm, r_dry_ticks_nm)\n",
    "pylab.xlabel('Dry radius [nm]')\n",
    "pylab.xlim(r_dry[0] / si.nm, r_dry[-1] / si.nm)\n",
    "pylab.ylabel('$\\kappa_{eff}$')\n",
    "pylab.legend()\n",
    "pylab.show()\n",
    "#show_plot()"
   ]
  },
  {
   "cell_type": "markdown",
   "metadata": {},
   "source": [
    "### Aerosol size distribution"
   ]
  },
  {
   "cell_type": "code",
   "execution_count": 8,
   "metadata": {},
   "outputs": [
    {
     "data": {
      "image/png": "[encoded data removed]",
      "text/plain": [
       "<Figure size 432x288 with 1 Axes>"
      ]
     },
     "metadata": {
      "needs_background": "light"
     },
     "output_type": "display_data"
    }
   ],
   "source": [
    "x = np.logspace(np.log(5 * si.nm), np.log(1000 * si.nm), base=np.e)\n",
    "for k, v in cases.items():\n",
    "    spec = v.aerosol_modes_per_cc[0]['spectrum']\n",
    "    pylab.loglog(x / si.nm, spec.size_distribution(x)*x / si.cm**-3, label=k, color=v.color)\n",
    "pylab.ylim(1, 1000)\n",
    "pylab.xlim(5, 500)\n",
    "pylab.legend()\n",
    "pylab.grid()\n",
    "pylab.xlabel('Dry aerosol radius [nm]')\n",
    "pylab.ylabel('Aerosol number concentration\\n size distribution [cm$^{-3}$]')\n",
    "pylab.show()\n",
    "#show_plot()"
   ]
  },
  {
   "cell_type": "code",
   "execution_count": null,
   "metadata": {},
   "outputs": [],
   "source": []
  },
  {
   "cell_type": "code",
   "execution_count": null,
   "metadata": {},
   "outputs": [],
   "source": []
  }
 ],
 "metadata": {
  "kernelspec": {
   "display_name": "Python 3 (ipykernel)",
   "language": "python",
   "name": "python3"
  },
  "language_info": {
   "codemirror_mode": {
    "name": "ipython",
    "version": 3
   },
   "file_extension": ".py",
   "mimetype": "text/x-python",
   "name": "python",
   "nbconvert_exporter": "python",
   "pygments_lexer": "ipython3",
   "version": "3.9.7"
  }
 },
 "nbformat": 4,
 "nbformat_minor": 4
}
