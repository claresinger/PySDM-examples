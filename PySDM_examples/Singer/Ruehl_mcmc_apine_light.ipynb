{
 "cells": [
  {
   "cell_type": "code",
   "execution_count": 1,
   "metadata": {
    "pycharm": {
     "name": "#%%\n"
    }
   },
   "outputs": [],
   "source": [
    "import sys\n",
    "from matplotlib import pylab\n",
    "import numpy as np\n",
    "from PySDM import Formulae\n",
    "from PySDM.physics import si\n",
    "from PySDM.physics import constants_defaults as const\n",
    "from atmos_cloud_sim_uj_utils import show_plot\n",
    "from PySDM_examples.Singer.aerosol import AerosolBetaCary\n",
    "\n",
    "import warnings\n",
    "from numba.core.errors import NumbaExperimentalFeatureWarning"
   ]
  },
  {
   "cell_type": "code",
   "execution_count": 2,
   "metadata": {},
   "outputs": [
    {
     "data": {
      "image/png": "[encoded data removed]",
      "text/plain": [
       "<Figure size 576x432 with 1 Axes>"
      ]
     },
     "metadata": {
      "needs_background": "light"
     },
     "output_type": "display_data"
    }
   ],
   "source": [
    "pylab.figure(figsize=(8,6))\n",
    "pylab.rcParams.update({'font.size':20})\n",
    "\n",
    "ds = np.loadtxt(\"data/apinene_light.csv\",skiprows=1,delimiter=\",\")\n",
    "r_dry = ds[:,0]/2*1e-9\n",
    "ovf = np.minimum(ds[:,1], 0.99)\n",
    "d_ovf = ds[:,2]\n",
    "kappa_eff = ds[:,3]\n",
    "d_kappa_eff = ds[:,4]\n",
    "T = 300 * si.K\n",
    "\n",
    "datay = kappa_eff\n",
    "errory = d_kappa_eff\n",
    "\n",
    "args = [T, r_dry, ovf]\n",
    "\n",
    "pylab.errorbar(ovf, kappa_eff, yerr=d_kappa_eff, xerr=d_ovf, fmt='ko')\n",
    "pylab.xlabel(\"OVF\")\n",
    "pylab.ylabel(\"$\\kappa_{eff}$\")\n",
    "pylab.rcParams.update({'font.size':20})\n",
    "pylab.grid()\n",
    "pylab.show()"
   ]
  },
  {
   "cell_type": "code",
   "execution_count": null,
   "metadata": {
    "tags": []
   },
   "outputs": [
    {
     "name": "stdout",
     "output_type": "stream",
     "text": [
      "[1.45000000e-19 7.50455792e-06 3.31154520e+01 4.00000000e+16]\n"
     ]
    }
   ],
   "source": [
    "from importlib import reload\n",
    "import kappa_mcmc_ruehl\n",
    "reload(kappa_mcmc_ruehl)\n",
    "from kappa_mcmc_ruehl import param_transform, get_model, MCMC\n",
    "\n",
    "c = AerosolBetaCary(ovf)\n",
    "params = [14.5, -11.8, 3.5, 0.4]\n",
    "stepsize = [0.1, 0.05, 0.01, 0.05]\n",
    "print(param_transform(params))\n",
    "\n",
    "n_steps = 200\n",
    "with warnings.catch_warnings():\n",
    "    warnings.simplefilter('ignore', category=NumbaExperimentalFeatureWarning)\n",
    "    param_chain, accept_chain, chi2_chain = MCMC(params, stepsize, args, datay, errory, n_steps)\n",
    "#print(param_chain[:,-1])\n",
    "p = param_transform(param_chain)\n",
    "print(p[:,-1])"
   ]
  },
  {
   "cell_type": "code",
   "execution_count": null,
   "metadata": {},
   "outputs": [],
   "source": [
    "pylab.plot(p[0,:])\n",
    "pylab.ylabel(\"A0\")\n",
    "pylab.show()\n",
    "pylab.plot(p[1,:])\n",
    "pylab.ylabel(\"C0\")\n",
    "pylab.show()\n",
    "pylab.plot(p[2,:])\n",
    "pylab.ylabel(\"sgm_min\")\n",
    "pylab.show()\n",
    "pylab.plot(p[3,:])\n",
    "pylab.ylabel(\"m_sigma\")\n",
    "pylab.show()"
   ]
  },
  {
   "cell_type": "markdown",
   "metadata": {},
   "source": [
    "### Surface tension"
   ]
  },
  {
   "cell_type": "code",
   "execution_count": null,
   "metadata": {},
   "outputs": [],
   "source": [
    "reload(kappa_mcmc_ruehl)\n",
    "from kappa_mcmc_ruehl import param_transform, negSS\n",
    "from kappa_mcmc_ruehl import get_model\n",
    "from scipy.optimize import minimize_scalar, minimize\n",
    "\n",
    "dat = np.zeros((len(ovf),4))\n",
    "\n",
    "c = AerosolBetaCary(ovf)\n",
    "f_org = c.aerosol_modes_per_cc[0]['f_org']\n",
    "kappa = c.aerosol_modes_per_cc[0]['kappa']['SL']\n",
    "\n",
    "pylab.figure(figsize=(10,6))\n",
    "\n",
    "# before\n",
    "p = param_transform(param_chain[:,0])\n",
    "print(p)\n",
    "\n",
    "formulae_1 = Formulae(\n",
    "    surface_tension='CompressedFilmRuehl',\n",
    "    constants={\n",
    "        'RUEHL_nu_org': c.aerosol_modes_per_cc[0]['nu_org'][0],\n",
    "        'RUEHL_A0': p[0] * si.m * si.m,\n",
    "        'RUEHL_C0': p[1],\n",
    "        'RUEHL_sgm_min': p[2] * si.mN / si.m,\n",
    "        'RUEHL_m_sigma': p[3] * si.J / si.m**2\n",
    "    }\n",
    ")\n",
    "Scrit, rcrit = np.zeros(len(r_dry)), np.zeros(len(r_dry))\n",
    "for i, rd in enumerate(r_dry):\n",
    "    a = [formulae_1, T, r_dry[i], kappa[i], f_org[i]]\n",
    "    res = minimize_scalar(negSS, args=a)\n",
    "    Scrit[i], rcrit[i] = -1*res.fun, res.x\n",
    "kap_eff = (2 * rcrit**2) / (3 * r_dry**3 * const.Rv * T * const.rho_w) * const.sgm_w\n",
    "\n",
    "s = np.argsort(ovf)\n",
    "dat[:,0] = ovf[s]\n",
    "dat[:,2] = kap_eff[s]\n",
    "pylab.plot(ovf[s], kap_eff[s], 'b:', label=\"before\")\n",
    "\n",
    "# after\n",
    "p = param_transform(param_chain[:,-1])\n",
    "print(p)\n",
    "\n",
    "formulae_2 = Formulae(\n",
    "    surface_tension='SzyszkowskiLangmuir',\n",
    "    constants={\n",
    "        'RUEHL_nu_org': c.aerosol_modes_per_cc[0]['nu_org'][0],\n",
    "        'RUEHL_A0': p[0] * si.m * si.m,\n",
    "        'RUEHL_C0': p[1],\n",
    "        'RUEHL_sgm_min': p[2] * si.mN / si.m,\n",
    "        'RUEHL_m_sigma': p[3] * si.J / si.m**2\n",
    "    }\n",
    ")\n",
    "Scrit, rcrit = np.zeros(len(r_dry)), np.zeros(len(r_dry))\n",
    "for i, rd in enumerate(r_dry):\n",
    "    a = [formulae_2, T, r_dry[i], kappa[i], f_org[i]]\n",
    "    res = minimize_scalar(negSS, args=a)\n",
    "    Scrit[i], rcrit[i] = -1*res.fun, res.x\n",
    "kap_eff2 = (2 * rcrit**2) / (3 * r_dry**3 * const.Rv * T * const.rho_w) * const.sgm_w\n",
    "\n",
    "s = np.argsort(ovf)\n",
    "dat[:,3] = kap_eff2[s]\n",
    "pylab.plot(ovf[s], kap_eff2[s], 'r-', label=\"after\")\n",
    "\n",
    "# data\n",
    "s = np.argsort(ovf)\n",
    "dat[:,1] = kappa_eff[s]\n",
    "pylab.errorbar(ovf, kappa_eff, yerr=errory, xerr=d_ovf, fmt='ko')\n",
    "\n",
    "#pylab.colorbar(label=\"Dry radius (nm)\")\n",
    "pylab.legend()\n",
    "pylab.xlabel(\"Organic Volume Fraction\")\n",
    "pylab.ylabel(\"$\\kappa_{eff}$\",fontsize=20)\n",
    "pylab.rcParams.update({\"font.size\":15})\n",
    "pylab.grid()\n",
    "pylab.savefig(\"Ruehl_fit_apine_light.png\", facecolor='w', dpi=200)\n",
    "pylab.show()\n",
    "\n",
    "pylab.figure(figsize=(10,6))\n",
    "pylab.errorbar(kappa_eff, kap_eff, xerr=errory, fmt='bo', label=\"before\")\n",
    "pylab.errorbar(kappa_eff, kap_eff2, xerr=errory, fmt='ro', label=\"after\")\n",
    "pylab.legend()\n",
    "pylab.xlabel(\"$\\kappa_{eff}$ measured\",fontsize=20)\n",
    "pylab.ylabel(\"$\\kappa_{eff}$ modeled\",fontsize=20)\n",
    "pylab.plot([-0.05,0.55],[-0.05,0.55], 'k-')\n",
    "pylab.xlim([-0.05,0.55])\n",
    "pylab.ylim([-0.05,0.55])\n",
    "pylab.rcParams.update({\"font.size\":15})\n",
    "pylab.grid()\n",
    "pylab.show()\n",
    "\n",
    "# print(dat)\n",
    "# np.savetxt(\"Ryan_mcmc.csv\", dat, delimiter=',', fmt='%.4f', \n",
    "#            header='OVF, Kappa meas, Kappa before, Kappa after', \n",
    "#            comments='before: 44.82, 0.61 // after: 34.77, 1.73\\n')"
   ]
  },
  {
   "cell_type": "code",
   "execution_count": null,
   "metadata": {},
   "outputs": [],
   "source": [
    "print(param_chain[:,-1])"
   ]
  },
  {
   "cell_type": "code",
   "execution_count": null,
   "metadata": {},
   "outputs": [],
   "source": []
  }
 ],
 "metadata": {
  "kernelspec": {
   "display_name": "Python 3 (ipykernel)",
   "language": "python",
   "name": "python3"
  },
  "language_info": {
   "codemirror_mode": {
    "name": "ipython",
    "version": 3
   },
   "file_extension": ".py",
   "mimetype": "text/x-python",
   "name": "python",
   "nbconvert_exporter": "python",
   "pygments_lexer": "ipython3",
   "version": "3.9.7"
  }
 },
 "nbformat": 4,
 "nbformat_minor": 4
}
